{
 "cells": [
  {
   "cell_type": "code",
   "execution_count": 6,
   "id": "c972e1b2-4c08-4fdf-8de8-d986116d8776",
   "metadata": {},
   "outputs": [],
   "source": [
    "%load_ext autoreload\n",
    "%autoreload 2"
   ]
  },
  {
   "cell_type": "code",
   "execution_count": 43,
   "id": "d38144d0-4031-419f-8ef9-e41cdbeb11ab",
   "metadata": {},
   "outputs": [],
   "source": [
    "import polars as pl\n",
    "from polars import col\n",
    "import torch\n",
    "\n",
    "from torch import optim\n",
    "from torch.utils.data import DataLoader, Dataset"
   ]
  },
  {
   "cell_type": "markdown",
   "id": "8ca762f2-2ccd-4d00-a776-e8ec97351ee8",
   "metadata": {},
   "source": [
    "## Load and Process Data"
   ]
  },
  {
   "cell_type": "code",
   "execution_count": 8,
   "id": "ec7a093e-88f3-443e-aca0-5064dfc7e7fb",
   "metadata": {},
   "outputs": [],
   "source": [
    "articles = pl.read_csv(\"data/articles.csv\", columns=[\"article_id\", \"garment_group_name\", \"index_group_name\"])\n",
    "customers = pl.read_csv(\"data/customers.csv\", columns=[\"customer_id\", \"age\", \"club_member_status\"]).filter(col(\"age\").is_not_null())\n",
    "transactions = pl.read_csv(\"data/transactions_train.csv\", columns=[\"customer_id\", \"article_id\", \"t_dat\", \"price\"])"
   ]
  },
  {
   "cell_type": "code",
   "execution_count": 9,
   "id": "16d8c664-fb30-4f74-8928-3c5eb819690e",
   "metadata": {},
   "outputs": [
    {
     "data": {
      "text/plain": [
       "((105542, 3), (1356119, 3), (31788324, 4))"
      ]
     },
     "execution_count": 9,
     "metadata": {},
     "output_type": "execute_result"
    }
   ],
   "source": [
    "articles.shape, customers.shape, transactions.shape"
   ]
  },
  {
   "cell_type": "markdown",
   "id": "90fb6039-26bb-4b65-beed-c0fc056d979b",
   "metadata": {},
   "source": [
    "### Articles"
   ]
  },
  {
   "cell_type": "code",
   "execution_count": 10,
   "id": "ce6933fe-78f2-44a0-b25c-7fd817b16118",
   "metadata": {},
   "outputs": [
    {
     "data": {
      "text/html": [
       "<div><style>\n",
       ".dataframe > thead > tr,\n",
       ".dataframe > tbody > tr {\n",
       "  text-align: right;\n",
       "  white-space: pre-wrap;\n",
       "}\n",
       "</style>\n",
       "<small>shape: (1, 3)</small><table border=\"1\" class=\"dataframe\"><thead><tr><th>article_id</th><th>index_group_name</th><th>garment_group_name</th></tr><tr><td>i64</td><td>str</td><td>str</td></tr></thead><tbody><tr><td>108775015</td><td>&quot;Ladieswear&quot;</td><td>&quot;Jersey Basic&quot;</td></tr></tbody></table></div>"
      ],
      "text/plain": [
       "shape: (1, 3)\n",
       "┌────────────┬──────────────────┬────────────────────┐\n",
       "│ article_id ┆ index_group_name ┆ garment_group_name │\n",
       "│ ---        ┆ ---              ┆ ---                │\n",
       "│ i64        ┆ str              ┆ str                │\n",
       "╞════════════╪══════════════════╪════════════════════╡\n",
       "│ 108775015  ┆ Ladieswear       ┆ Jersey Basic       │\n",
       "└────────────┴──────────────────┴────────────────────┘"
      ]
     },
     "execution_count": 10,
     "metadata": {},
     "output_type": "execute_result"
    }
   ],
   "source": [
    "articles.head(1)"
   ]
  },
  {
   "cell_type": "code",
   "execution_count": 11,
   "id": "ed5377b6-c63f-4672-983e-d1e7a3a53dda",
   "metadata": {
    "scrolled": true
   },
   "outputs": [
    {
     "data": {
      "text/html": [
       "<div><style>\n",
       ".dataframe > thead > tr,\n",
       ".dataframe > tbody > tr {\n",
       "  text-align: right;\n",
       "  white-space: pre-wrap;\n",
       "}\n",
       "</style>\n",
       "<small>shape: (1, 3)</small><table border=\"1\" class=\"dataframe\"><thead><tr><th>article_id</th><th>garment_group_name</th><th>index_group_name</th></tr><tr><td>u32</td><td>u32</td><td>u32</td></tr></thead><tbody><tr><td>105542</td><td>21</td><td>5</td></tr></tbody></table></div>"
      ],
      "text/plain": [
       "shape: (1, 3)\n",
       "┌────────────┬────────────────────┬──────────────────┐\n",
       "│ article_id ┆ garment_group_name ┆ index_group_name │\n",
       "│ ---        ┆ ---                ┆ ---              │\n",
       "│ u32        ┆ u32                ┆ u32              │\n",
       "╞════════════╪════════════════════╪══════════════════╡\n",
       "│ 105542     ┆ 21                 ┆ 5                │\n",
       "└────────────┴────────────────────┴──────────────────┘"
      ]
     },
     "execution_count": 11,
     "metadata": {},
     "output_type": "execute_result"
    }
   ],
   "source": [
    "articles.select([\n",
    "    col(\"article_id\").n_unique(),\n",
    "    col(\"garment_group_name\").n_unique(),\n",
    "    col(\"index_group_name\").n_unique(),\n",
    "])"
   ]
  },
  {
   "cell_type": "markdown",
   "id": "edd377cb-03e7-4acd-9bec-afef30262471",
   "metadata": {},
   "source": [
    "### Customers"
   ]
  },
  {
   "cell_type": "code",
   "execution_count": 12,
   "id": "9cd20245-f5eb-4412-9b7d-df776613bdf4",
   "metadata": {},
   "outputs": [
    {
     "data": {
      "text/html": [
       "<div><style>\n",
       ".dataframe > thead > tr,\n",
       ".dataframe > tbody > tr {\n",
       "  text-align: right;\n",
       "  white-space: pre-wrap;\n",
       "}\n",
       "</style>\n",
       "<small>shape: (1, 3)</small><table border=\"1\" class=\"dataframe\"><thead><tr><th>customer_id</th><th>club_member_status</th><th>age</th></tr><tr><td>str</td><td>str</td><td>i64</td></tr></thead><tbody><tr><td>&quot;00000dbacae5ab…</td><td>&quot;ACTIVE&quot;</td><td>49</td></tr></tbody></table></div>"
      ],
      "text/plain": [
       "shape: (1, 3)\n",
       "┌───────────────────────────────────┬────────────────────┬─────┐\n",
       "│ customer_id                       ┆ club_member_status ┆ age │\n",
       "│ ---                               ┆ ---                ┆ --- │\n",
       "│ str                               ┆ str                ┆ i64 │\n",
       "╞═══════════════════════════════════╪════════════════════╪═════╡\n",
       "│ 00000dbacae5abe5e23885899a1fa442… ┆ ACTIVE             ┆ 49  │\n",
       "└───────────────────────────────────┴────────────────────┴─────┘"
      ]
     },
     "execution_count": 12,
     "metadata": {},
     "output_type": "execute_result"
    }
   ],
   "source": [
    "customers.head(1)"
   ]
  },
  {
   "cell_type": "code",
   "execution_count": 13,
   "id": "c3ae7378-308e-40a3-88e0-6be5ffe42a73",
   "metadata": {},
   "outputs": [
    {
     "data": {
      "text/html": [
       "<div><style>\n",
       ".dataframe > thead > tr,\n",
       ".dataframe > tbody > tr {\n",
       "  text-align: right;\n",
       "  white-space: pre-wrap;\n",
       "}\n",
       "</style>\n",
       "<small>shape: (1, 3)</small><table border=\"1\" class=\"dataframe\"><thead><tr><th>customer_id</th><th>club_member_status</th><th>age</th></tr><tr><td>u32</td><td>u32</td><td>u32</td></tr></thead><tbody><tr><td>1356119</td><td>4</td><td>84</td></tr></tbody></table></div>"
      ],
      "text/plain": [
       "shape: (1, 3)\n",
       "┌─────────────┬────────────────────┬─────┐\n",
       "│ customer_id ┆ club_member_status ┆ age │\n",
       "│ ---         ┆ ---                ┆ --- │\n",
       "│ u32         ┆ u32                ┆ u32 │\n",
       "╞═════════════╪════════════════════╪═════╡\n",
       "│ 1356119     ┆ 4                  ┆ 84  │\n",
       "└─────────────┴────────────────────┴─────┘"
      ]
     },
     "execution_count": 13,
     "metadata": {},
     "output_type": "execute_result"
    }
   ],
   "source": [
    "customers.select([\n",
    "    col(\"customer_id\").n_unique(),\n",
    "    col(\"club_member_status\").n_unique(),\n",
    "    col(\"age\").n_unique(),\n",
    "])"
   ]
  },
  {
   "cell_type": "markdown",
   "id": "e8eaf732-fbf6-43bd-9e68-a19460b9526e",
   "metadata": {},
   "source": [
    "### Transactions"
   ]
  },
  {
   "cell_type": "code",
   "execution_count": 14,
   "id": "4cfedaef-4c01-4c9b-955c-084d9ef8090d",
   "metadata": {},
   "outputs": [
    {
     "data": {
      "text/html": [
       "<div><style>\n",
       ".dataframe > thead > tr,\n",
       ".dataframe > tbody > tr {\n",
       "  text-align: right;\n",
       "  white-space: pre-wrap;\n",
       "}\n",
       "</style>\n",
       "<small>shape: (1, 4)</small><table border=\"1\" class=\"dataframe\"><thead><tr><th>t_dat</th><th>customer_id</th><th>article_id</th><th>price</th></tr><tr><td>str</td><td>str</td><td>i64</td><td>f64</td></tr></thead><tbody><tr><td>&quot;2018-09-20&quot;</td><td>&quot;000058a12d5b43…</td><td>663713001</td><td>0.050831</td></tr></tbody></table></div>"
      ],
      "text/plain": [
       "shape: (1, 4)\n",
       "┌────────────┬───────────────────────────────────┬────────────┬──────────┐\n",
       "│ t_dat      ┆ customer_id                       ┆ article_id ┆ price    │\n",
       "│ ---        ┆ ---                               ┆ ---        ┆ ---      │\n",
       "│ str        ┆ str                               ┆ i64        ┆ f64      │\n",
       "╞════════════╪═══════════════════════════════════╪════════════╪══════════╡\n",
       "│ 2018-09-20 ┆ 000058a12d5b43e67d225668fa1f8d61… ┆ 663713001  ┆ 0.050831 │\n",
       "└────────────┴───────────────────────────────────┴────────────┴──────────┘"
      ]
     },
     "execution_count": 14,
     "metadata": {},
     "output_type": "execute_result"
    }
   ],
   "source": [
    "transactions.head(1)"
   ]
  },
  {
   "cell_type": "code",
   "execution_count": 15,
   "id": "d98bc377-8c07-4f79-abfa-941b5324bc30",
   "metadata": {},
   "outputs": [
    {
     "data": {
      "text/html": [
       "<div><style>\n",
       ".dataframe > thead > tr,\n",
       ".dataframe > tbody > tr {\n",
       "  text-align: right;\n",
       "  white-space: pre-wrap;\n",
       "}\n",
       "</style>\n",
       "<small>shape: (1, 4)</small><table border=\"1\" class=\"dataframe\"><thead><tr><th>t_dat</th><th>customer_id</th><th>article_id</th><th>price</th></tr><tr><td>u32</td><td>u32</td><td>u32</td><td>u32</td></tr></thead><tbody><tr><td>734</td><td>1362281</td><td>104547</td><td>9857</td></tr></tbody></table></div>"
      ],
      "text/plain": [
       "shape: (1, 4)\n",
       "┌───────┬─────────────┬────────────┬───────┐\n",
       "│ t_dat ┆ customer_id ┆ article_id ┆ price │\n",
       "│ ---   ┆ ---         ┆ ---        ┆ ---   │\n",
       "│ u32   ┆ u32         ┆ u32        ┆ u32   │\n",
       "╞═══════╪═════════════╪════════════╪═══════╡\n",
       "│ 734   ┆ 1362281     ┆ 104547     ┆ 9857  │\n",
       "└───────┴─────────────┴────────────┴───────┘"
      ]
     },
     "execution_count": 15,
     "metadata": {},
     "output_type": "execute_result"
    }
   ],
   "source": [
    "transactions.select([\n",
    "    col(\"t_dat\").n_unique(),\n",
    "    col(\"customer_id\").n_unique(),\n",
    "    col(\"article_id\").n_unique(),\n",
    "    col(\"price\").n_unique()\n",
    "])"
   ]
  },
  {
   "cell_type": "markdown",
   "id": "fea12a4e-3e4d-471e-b4db-647211641a81",
   "metadata": {},
   "source": [
    "### Create Queries"
   ]
  },
  {
   "cell_type": "code",
   "execution_count": 16,
   "id": "fb48c75d-531e-446a-937b-8b9bb89272e3",
   "metadata": {},
   "outputs": [
    {
     "data": {
      "text/plain": [
       "(31648066, 8)"
      ]
     },
     "execution_count": 16,
     "metadata": {},
     "output_type": "execute_result"
    }
   ],
   "source": [
    "query = transactions.join(customers, on=\"customer_id\", how=\"inner\").join(articles, on=\"article_id\", how=\"inner\")\n",
    "query.shape"
   ]
  },
  {
   "cell_type": "code",
   "execution_count": 17,
   "id": "df74b8d1-e105-4a61-bf20-bf740d318933",
   "metadata": {
    "scrolled": true
   },
   "outputs": [
    {
     "data": {
      "text/html": [
       "<div><style>\n",
       ".dataframe > thead > tr,\n",
       ".dataframe > tbody > tr {\n",
       "  text-align: right;\n",
       "  white-space: pre-wrap;\n",
       "}\n",
       "</style>\n",
       "<small>shape: (5, 8)</small><table border=\"1\" class=\"dataframe\"><thead><tr><th>t_dat</th><th>customer_id</th><th>article_id</th><th>price</th><th>club_member_status</th><th>age</th><th>index_group_name</th><th>garment_group_name</th></tr><tr><td>str</td><td>str</td><td>i64</td><td>f64</td><td>str</td><td>i64</td><td>str</td><td>str</td></tr></thead><tbody><tr><td>&quot;2018-09-26&quot;</td><td>&quot;2c72d85b7b7d5b…</td><td>572928001</td><td>0.06778</td><td>&quot;ACTIVE&quot;</td><td>53</td><td>&quot;Sport&quot;</td><td>&quot;Jersey Fancy&quot;</td></tr><tr><td>&quot;2018-10-31&quot;</td><td>&quot;db5963e9b5c5b6…</td><td>530729006</td><td>0.025407</td><td>&quot;ACTIVE&quot;</td><td>26</td><td>&quot;Ladieswear&quot;</td><td>&quot;Socks and Tigh…</td></tr><tr><td>&quot;2019-01-31&quot;</td><td>&quot;21a77eae717280…</td><td>355072002</td><td>0.005068</td><td>&quot;ACTIVE&quot;</td><td>21</td><td>&quot;Divided&quot;</td><td>&quot;Jersey Basic&quot;</td></tr><tr><td>&quot;2019-05-31&quot;</td><td>&quot;9e1d4b82072bca…</td><td>772794003</td><td>0.050831</td><td>&quot;ACTIVE&quot;</td><td>46</td><td>&quot;Ladieswear&quot;</td><td>&quot;Dresses Ladies…</td></tr><tr><td>&quot;2019-03-01&quot;</td><td>&quot;10fbd650290677…</td><td>729936002</td><td>0.050831</td><td>&quot;ACTIVE&quot;</td><td>66</td><td>&quot;Ladieswear&quot;</td><td>&quot;Blouses&quot;</td></tr></tbody></table></div>"
      ],
      "text/plain": [
       "shape: (5, 8)\n",
       "┌────────────┬─────────────┬────────────┬──────────┬─────────────┬─────┬─────────────┬─────────────┐\n",
       "│ t_dat      ┆ customer_id ┆ article_id ┆ price    ┆ club_member ┆ age ┆ index_group ┆ garment_gro │\n",
       "│ ---        ┆ ---         ┆ ---        ┆ ---      ┆ _status     ┆ --- ┆ _name       ┆ up_name     │\n",
       "│ str        ┆ str         ┆ i64        ┆ f64      ┆ ---         ┆ i64 ┆ ---         ┆ ---         │\n",
       "│            ┆             ┆            ┆          ┆ str         ┆     ┆ str         ┆ str         │\n",
       "╞════════════╪═════════════╪════════════╪══════════╪═════════════╪═════╪═════════════╪═════════════╡\n",
       "│ 2018-09-26 ┆ 2c72d85b7b7 ┆ 572928001  ┆ 0.06778  ┆ ACTIVE      ┆ 53  ┆ Sport       ┆ Jersey      │\n",
       "│            ┆ d5b647560e5 ┆            ┆          ┆             ┆     ┆             ┆ Fancy       │\n",
       "│            ┆ b96da5a747… ┆            ┆          ┆             ┆     ┆             ┆             │\n",
       "│ 2018-10-31 ┆ db5963e9b5c ┆ 530729006  ┆ 0.025407 ┆ ACTIVE      ┆ 26  ┆ Ladieswear  ┆ Socks and   │\n",
       "│            ┆ 5b6415af3c9 ┆            ┆          ┆             ┆     ┆             ┆ Tights      │\n",
       "│            ┆ 022c4db89d… ┆            ┆          ┆             ┆     ┆             ┆             │\n",
       "│ 2019-01-31 ┆ 21a77eae717 ┆ 355072002  ┆ 0.005068 ┆ ACTIVE      ┆ 21  ┆ Divided     ┆ Jersey      │\n",
       "│            ┆ 280e7ed66f1 ┆            ┆          ┆             ┆     ┆             ┆ Basic       │\n",
       "│            ┆ e4e83a48f9… ┆            ┆          ┆             ┆     ┆             ┆             │\n",
       "│ 2019-05-31 ┆ 9e1d4b82072 ┆ 772794003  ┆ 0.050831 ┆ ACTIVE      ┆ 46  ┆ Ladieswear  ┆ Dresses     │\n",
       "│            ┆ bca31cf8701 ┆            ┆          ┆             ┆     ┆             ┆ Ladies      │\n",
       "│            ┆ 2237247efb… ┆            ┆          ┆             ┆     ┆             ┆             │\n",
       "│ 2019-03-01 ┆ 10fbd650290 ┆ 729936002  ┆ 0.050831 ┆ ACTIVE      ┆ 66  ┆ Ladieswear  ┆ Blouses     │\n",
       "│            ┆ 6772f54ebd0 ┆            ┆          ┆             ┆     ┆             ┆             │\n",
       "│            ┆ a8127e096e… ┆            ┆          ┆             ┆     ┆             ┆             │\n",
       "└────────────┴─────────────┴────────────┴──────────┴─────────────┴─────┴─────────────┴─────────────┘"
      ]
     },
     "execution_count": 17,
     "metadata": {},
     "output_type": "execute_result"
    }
   ],
   "source": [
    "query.sample(5)"
   ]
  },
  {
   "cell_type": "markdown",
   "id": "8b225975-5a72-43bc-a124-a4eda7e2a64a",
   "metadata": {},
   "source": [
    "## Retrieval Model"
   ]
  },
  {
   "cell_type": "code",
   "execution_count": null,
   "id": "a2270ddb-3346-4ebb-9cd9-94c4b40e2599",
   "metadata": {},
   "outputs": [],
   "source": [
    "from sklearn.pipeline import Pipeline\n",
    "from sklearn.preprocessing import StandardScaler\n",
    "\n",
    "pipe = Pipeline([\n",
    "    ('scale', StandardScaler()),\n",
    "    ('net', net),\n",
    "])"
   ]
  },
  {
   "cell_type": "code",
   "execution_count": 72,
   "id": "2ff07c58-738c-46f0-94e7-7bf7a64d0bd7",
   "metadata": {},
   "outputs": [],
   "source": [
    "query_sample = query.sample(100000)\n",
    "\n",
    "query_customer_ids = query_sample[\"customer_id\"]\n",
    "query_article_ids = query_sample[\"article_id\"]\n",
    "query_ages = torch.tensor(query_sample[\"age\"].to_list(), dtype=torch.float)\n",
    "query_index_groups = query_sample[\"index_group_name\"]\n",
    "query_garment_groups = query_sample[\"garment_group_name\"]"
   ]
  },
  {
   "cell_type": "code",
   "execution_count": 18,
   "id": "ca933ae1-1bb1-407b-8f6d-70a83c314794",
   "metadata": {},
   "outputs": [
    {
     "data": {
      "text/plain": [
       "torch.Size([100, 10])"
      ]
     },
     "execution_count": 18,
     "metadata": {},
     "output_type": "execute_result"
    }
   ],
   "source": [
    "query_emb = query_model(query_customer_ids, query_ages)\n",
    "query_emb.shape"
   ]
  },
  {
   "cell_type": "code",
   "execution_count": 19,
   "id": "7444333c-05bd-4aa8-a7df-370bdb38f991",
   "metadata": {},
   "outputs": [
    {
     "data": {
      "text/plain": [
       "torch.Size([100, 10])"
      ]
     },
     "execution_count": 19,
     "metadata": {},
     "output_type": "execute_result"
    }
   ],
   "source": [
    "item_emb = item_model(query_article_ids, query_index_groups, query_garment_groups)\n",
    "item_emb.shape"
   ]
  },
  {
   "cell_type": "code",
   "execution_count": 47,
   "id": "fcc9f9ec-3203-4dca-ab91-98c88bdb54d8",
   "metadata": {},
   "outputs": [
    {
     "data": {
      "text/plain": [
       "torch.Size([100, 100])"
      ]
     },
     "execution_count": 47,
     "metadata": {},
     "output_type": "execute_result"
    }
   ],
   "source": [
    "scores.shape"
   ]
  },
  {
   "cell_type": "code",
   "execution_count": 164,
   "id": "f8865648-f177-497b-87c0-9de512b2be7e",
   "metadata": {},
   "outputs": [],
   "source": [
    "all_customer_ids = customers[\"customer_id\"].unique().to_list()\n",
    "all_item_ids = articles[\"article_id\"].unique().cast(pl.Utf8).to_list()\n",
    "all_index_groups = articles[\"index_group_name\"].unique().to_list()\n",
    "all_garment_groups = articles[\"garment_group_name\"].unique().to_list()"
   ]
  },
  {
   "cell_type": "code",
   "execution_count": 165,
   "id": "028a090f-f0b8-4d96-a5c3-04946c010d1b",
   "metadata": {},
   "outputs": [],
   "source": [
    "from retrieval import InteractionDataset, TwoTowerModel, QueryTower, ItemTower"
   ]
  },
  {
   "cell_type": "code",
   "execution_count": 166,
   "id": "23015e02-f0e2-42c5-9160-90a11143ef13",
   "metadata": {},
   "outputs": [],
   "source": [
    "query_model = QueryTower(all_customer_ids)\n",
    "item_model = ItemTower(all_item_ids, all_index_groups, all_garment_groups)\n",
    "model = TwoTowerModel(query_model, item_model)\n",
    "dataset = InteractionDataset(query)\n",
    "optimizer = optim.Adam(model.parameters())"
   ]
  },
  {
   "cell_type": "code",
   "execution_count": 167,
   "id": "22e1e1b5-ea4c-4828-a4b3-693b96289ea0",
   "metadata": {},
   "outputs": [],
   "source": [
    "dataloader = DataLoader(dataset, batch_size=512, shuffle=True)"
   ]
  },
  {
   "cell_type": "code",
   "execution_count": 169,
   "id": "1abaf455-3bc1-4460-81ba-81dec1564963",
   "metadata": {},
   "outputs": [
    {
     "name": "stdout",
     "output_type": "stream",
     "text": [
      "TwoTower: torch.float32\n",
      "TwoTower: torch.float32\n",
      "TwoTower: torch.float32\n",
      "TwoTower: torch.float32\n",
      "TwoTower: torch.float32\n",
      "TwoTower: torch.float32\n",
      "TwoTower: torch.float32\n",
      "TwoTower: torch.float32\n",
      "TwoTower: torch.float32\n",
      "TwoTower: torch.float32\n",
      "TwoTower: torch.float32\n",
      "TwoTower: torch.float32\n",
      "TwoTower: torch.float32\n",
      "TwoTower: torch.float32\n",
      "TwoTower: torch.float32\n",
      "TwoTower: torch.float32\n",
      "TwoTower: torch.float32\n",
      "TwoTower: torch.float32\n",
      "TwoTower: torch.float32\n",
      "TwoTower: torch.float32\n",
      "TwoTower: torch.float32\n",
      "TwoTower: torch.float32\n",
      "TwoTower: torch.float32\n",
      "TwoTower: torch.float32\n",
      "TwoTower: torch.float32\n",
      "TwoTower: torch.float32\n",
      "TwoTower: torch.float32\n",
      "TwoTower: torch.float32\n",
      "TwoTower: torch.float32\n",
      "TwoTower: torch.float32\n",
      "TwoTower: torch.float32\n",
      "TwoTower: torch.float32\n",
      "TwoTower: torch.float32\n",
      "TwoTower: torch.float32\n",
      "TwoTower: torch.float32\n",
      "TwoTower: torch.float32\n",
      "TwoTower: torch.float32\n",
      "TwoTower: torch.float32\n",
      "TwoTower: torch.float32\n",
      "TwoTower: torch.float32\n",
      "TwoTower: torch.float32\n",
      "TwoTower: torch.float32\n",
      "TwoTower: torch.float32\n",
      "TwoTower: torch.float32\n",
      "TwoTower: torch.float32\n",
      "TwoTower: torch.float32\n",
      "TwoTower: torch.float32\n",
      "TwoTower: torch.float32\n",
      "TwoTower: torch.float32\n"
     ]
    },
    {
     "ename": "KeyboardInterrupt",
     "evalue": "",
     "output_type": "error",
     "traceback": [
      "\u001b[0;31m---------------------------------------------------------------------------\u001b[0m",
      "\u001b[0;31mKeyboardInterrupt\u001b[0m                         Traceback (most recent call last)",
      "Cell \u001b[0;32mIn[169], line 12\u001b[0m\n\u001b[1;32m     10\u001b[0m     loss \u001b[38;5;241m=\u001b[39m model(customer_ids, article_ids, ages, index_groups, garment_groups)\n\u001b[1;32m     11\u001b[0m     loss\u001b[38;5;241m.\u001b[39mbackward()\n\u001b[0;32m---> 12\u001b[0m     \u001b[43moptimizer\u001b[49m\u001b[38;5;241;43m.\u001b[39;49m\u001b[43mstep\u001b[49m\u001b[43m(\u001b[49m\u001b[43m)\u001b[49m\n\u001b[1;32m     13\u001b[0m     running_loss \u001b[38;5;241m+\u001b[39m\u001b[38;5;241m=\u001b[39m loss\u001b[38;5;241m.\u001b[39mitem()\n\u001b[1;32m     15\u001b[0m \u001b[38;5;28mprint\u001b[39m(\u001b[38;5;124mf\u001b[39m\u001b[38;5;124m\"\u001b[39m\u001b[38;5;124mEpoch [\u001b[39m\u001b[38;5;132;01m{\u001b[39;00mepoch\u001b[38;5;241m+\u001b[39m\u001b[38;5;241m1\u001b[39m\u001b[38;5;132;01m}\u001b[39;00m\u001b[38;5;124m/\u001b[39m\u001b[38;5;132;01m{\u001b[39;00mnum_epochs\u001b[38;5;132;01m}\u001b[39;00m\u001b[38;5;124m], Loss: \u001b[39m\u001b[38;5;132;01m{\u001b[39;00mrunning_loss\u001b[38;5;241m/\u001b[39m\u001b[38;5;28mlen\u001b[39m(train_loader)\u001b[38;5;132;01m}\u001b[39;00m\u001b[38;5;124m\"\u001b[39m)\n",
      "File \u001b[0;32m~/Library/Caches/pypoetry/virtualenvs/learning-Ku1AcnKG-py3.11/lib/python3.11/site-packages/torch/optim/optimizer.py:373\u001b[0m, in \u001b[0;36mOptimizer.profile_hook_step.<locals>.wrapper\u001b[0;34m(*args, **kwargs)\u001b[0m\n\u001b[1;32m    368\u001b[0m         \u001b[38;5;28;01melse\u001b[39;00m:\n\u001b[1;32m    369\u001b[0m             \u001b[38;5;28;01mraise\u001b[39;00m \u001b[38;5;167;01mRuntimeError\u001b[39;00m(\n\u001b[1;32m    370\u001b[0m                 \u001b[38;5;124mf\u001b[39m\u001b[38;5;124m\"\u001b[39m\u001b[38;5;132;01m{\u001b[39;00mfunc\u001b[38;5;132;01m}\u001b[39;00m\u001b[38;5;124m must return None or a tuple of (new_args, new_kwargs), but got \u001b[39m\u001b[38;5;132;01m{\u001b[39;00mresult\u001b[38;5;132;01m}\u001b[39;00m\u001b[38;5;124m.\u001b[39m\u001b[38;5;124m\"\u001b[39m\n\u001b[1;32m    371\u001b[0m             )\n\u001b[0;32m--> 373\u001b[0m out \u001b[38;5;241m=\u001b[39m \u001b[43mfunc\u001b[49m\u001b[43m(\u001b[49m\u001b[38;5;241;43m*\u001b[39;49m\u001b[43margs\u001b[49m\u001b[43m,\u001b[49m\u001b[43m \u001b[49m\u001b[38;5;241;43m*\u001b[39;49m\u001b[38;5;241;43m*\u001b[39;49m\u001b[43mkwargs\u001b[49m\u001b[43m)\u001b[49m\n\u001b[1;32m    374\u001b[0m \u001b[38;5;28mself\u001b[39m\u001b[38;5;241m.\u001b[39m_optimizer_step_code()\n\u001b[1;32m    376\u001b[0m \u001b[38;5;66;03m# call optimizer step post hooks\u001b[39;00m\n",
      "File \u001b[0;32m~/Library/Caches/pypoetry/virtualenvs/learning-Ku1AcnKG-py3.11/lib/python3.11/site-packages/torch/optim/optimizer.py:76\u001b[0m, in \u001b[0;36m_use_grad_for_differentiable.<locals>._use_grad\u001b[0;34m(self, *args, **kwargs)\u001b[0m\n\u001b[1;32m     74\u001b[0m     torch\u001b[38;5;241m.\u001b[39mset_grad_enabled(\u001b[38;5;28mself\u001b[39m\u001b[38;5;241m.\u001b[39mdefaults[\u001b[38;5;124m'\u001b[39m\u001b[38;5;124mdifferentiable\u001b[39m\u001b[38;5;124m'\u001b[39m])\n\u001b[1;32m     75\u001b[0m     torch\u001b[38;5;241m.\u001b[39m_dynamo\u001b[38;5;241m.\u001b[39mgraph_break()\n\u001b[0;32m---> 76\u001b[0m     ret \u001b[38;5;241m=\u001b[39m \u001b[43mfunc\u001b[49m\u001b[43m(\u001b[49m\u001b[38;5;28;43mself\u001b[39;49m\u001b[43m,\u001b[49m\u001b[43m \u001b[49m\u001b[38;5;241;43m*\u001b[39;49m\u001b[43margs\u001b[49m\u001b[43m,\u001b[49m\u001b[43m \u001b[49m\u001b[38;5;241;43m*\u001b[39;49m\u001b[38;5;241;43m*\u001b[39;49m\u001b[43mkwargs\u001b[49m\u001b[43m)\u001b[49m\n\u001b[1;32m     77\u001b[0m \u001b[38;5;28;01mfinally\u001b[39;00m:\n\u001b[1;32m     78\u001b[0m     torch\u001b[38;5;241m.\u001b[39m_dynamo\u001b[38;5;241m.\u001b[39mgraph_break()\n",
      "File \u001b[0;32m~/Library/Caches/pypoetry/virtualenvs/learning-Ku1AcnKG-py3.11/lib/python3.11/site-packages/torch/optim/adam.py:163\u001b[0m, in \u001b[0;36mAdam.step\u001b[0;34m(self, closure)\u001b[0m\n\u001b[1;32m    152\u001b[0m     beta1, beta2 \u001b[38;5;241m=\u001b[39m group[\u001b[38;5;124m'\u001b[39m\u001b[38;5;124mbetas\u001b[39m\u001b[38;5;124m'\u001b[39m]\n\u001b[1;32m    154\u001b[0m     \u001b[38;5;28mself\u001b[39m\u001b[38;5;241m.\u001b[39m_init_group(\n\u001b[1;32m    155\u001b[0m         group,\n\u001b[1;32m    156\u001b[0m         params_with_grad,\n\u001b[0;32m   (...)\u001b[0m\n\u001b[1;32m    160\u001b[0m         max_exp_avg_sqs,\n\u001b[1;32m    161\u001b[0m         state_steps)\n\u001b[0;32m--> 163\u001b[0m     \u001b[43madam\u001b[49m\u001b[43m(\u001b[49m\n\u001b[1;32m    164\u001b[0m \u001b[43m        \u001b[49m\u001b[43mparams_with_grad\u001b[49m\u001b[43m,\u001b[49m\n\u001b[1;32m    165\u001b[0m \u001b[43m        \u001b[49m\u001b[43mgrads\u001b[49m\u001b[43m,\u001b[49m\n\u001b[1;32m    166\u001b[0m \u001b[43m        \u001b[49m\u001b[43mexp_avgs\u001b[49m\u001b[43m,\u001b[49m\n\u001b[1;32m    167\u001b[0m \u001b[43m        \u001b[49m\u001b[43mexp_avg_sqs\u001b[49m\u001b[43m,\u001b[49m\n\u001b[1;32m    168\u001b[0m \u001b[43m        \u001b[49m\u001b[43mmax_exp_avg_sqs\u001b[49m\u001b[43m,\u001b[49m\n\u001b[1;32m    169\u001b[0m \u001b[43m        \u001b[49m\u001b[43mstate_steps\u001b[49m\u001b[43m,\u001b[49m\n\u001b[1;32m    170\u001b[0m \u001b[43m        \u001b[49m\u001b[43mamsgrad\u001b[49m\u001b[38;5;241;43m=\u001b[39;49m\u001b[43mgroup\u001b[49m\u001b[43m[\u001b[49m\u001b[38;5;124;43m'\u001b[39;49m\u001b[38;5;124;43mamsgrad\u001b[39;49m\u001b[38;5;124;43m'\u001b[39;49m\u001b[43m]\u001b[49m\u001b[43m,\u001b[49m\n\u001b[1;32m    171\u001b[0m \u001b[43m        \u001b[49m\u001b[43mbeta1\u001b[49m\u001b[38;5;241;43m=\u001b[39;49m\u001b[43mbeta1\u001b[49m\u001b[43m,\u001b[49m\n\u001b[1;32m    172\u001b[0m \u001b[43m        \u001b[49m\u001b[43mbeta2\u001b[49m\u001b[38;5;241;43m=\u001b[39;49m\u001b[43mbeta2\u001b[49m\u001b[43m,\u001b[49m\n\u001b[1;32m    173\u001b[0m \u001b[43m        \u001b[49m\u001b[43mlr\u001b[49m\u001b[38;5;241;43m=\u001b[39;49m\u001b[43mgroup\u001b[49m\u001b[43m[\u001b[49m\u001b[38;5;124;43m'\u001b[39;49m\u001b[38;5;124;43mlr\u001b[39;49m\u001b[38;5;124;43m'\u001b[39;49m\u001b[43m]\u001b[49m\u001b[43m,\u001b[49m\n\u001b[1;32m    174\u001b[0m \u001b[43m        \u001b[49m\u001b[43mweight_decay\u001b[49m\u001b[38;5;241;43m=\u001b[39;49m\u001b[43mgroup\u001b[49m\u001b[43m[\u001b[49m\u001b[38;5;124;43m'\u001b[39;49m\u001b[38;5;124;43mweight_decay\u001b[39;49m\u001b[38;5;124;43m'\u001b[39;49m\u001b[43m]\u001b[49m\u001b[43m,\u001b[49m\n\u001b[1;32m    175\u001b[0m \u001b[43m        \u001b[49m\u001b[43meps\u001b[49m\u001b[38;5;241;43m=\u001b[39;49m\u001b[43mgroup\u001b[49m\u001b[43m[\u001b[49m\u001b[38;5;124;43m'\u001b[39;49m\u001b[38;5;124;43meps\u001b[39;49m\u001b[38;5;124;43m'\u001b[39;49m\u001b[43m]\u001b[49m\u001b[43m,\u001b[49m\n\u001b[1;32m    176\u001b[0m \u001b[43m        \u001b[49m\u001b[43mmaximize\u001b[49m\u001b[38;5;241;43m=\u001b[39;49m\u001b[43mgroup\u001b[49m\u001b[43m[\u001b[49m\u001b[38;5;124;43m'\u001b[39;49m\u001b[38;5;124;43mmaximize\u001b[39;49m\u001b[38;5;124;43m'\u001b[39;49m\u001b[43m]\u001b[49m\u001b[43m,\u001b[49m\n\u001b[1;32m    177\u001b[0m \u001b[43m        \u001b[49m\u001b[43mforeach\u001b[49m\u001b[38;5;241;43m=\u001b[39;49m\u001b[43mgroup\u001b[49m\u001b[43m[\u001b[49m\u001b[38;5;124;43m'\u001b[39;49m\u001b[38;5;124;43mforeach\u001b[39;49m\u001b[38;5;124;43m'\u001b[39;49m\u001b[43m]\u001b[49m\u001b[43m,\u001b[49m\n\u001b[1;32m    178\u001b[0m \u001b[43m        \u001b[49m\u001b[43mcapturable\u001b[49m\u001b[38;5;241;43m=\u001b[39;49m\u001b[43mgroup\u001b[49m\u001b[43m[\u001b[49m\u001b[38;5;124;43m'\u001b[39;49m\u001b[38;5;124;43mcapturable\u001b[39;49m\u001b[38;5;124;43m'\u001b[39;49m\u001b[43m]\u001b[49m\u001b[43m,\u001b[49m\n\u001b[1;32m    179\u001b[0m \u001b[43m        \u001b[49m\u001b[43mdifferentiable\u001b[49m\u001b[38;5;241;43m=\u001b[39;49m\u001b[43mgroup\u001b[49m\u001b[43m[\u001b[49m\u001b[38;5;124;43m'\u001b[39;49m\u001b[38;5;124;43mdifferentiable\u001b[39;49m\u001b[38;5;124;43m'\u001b[39;49m\u001b[43m]\u001b[49m\u001b[43m,\u001b[49m\n\u001b[1;32m    180\u001b[0m \u001b[43m        \u001b[49m\u001b[43mfused\u001b[49m\u001b[38;5;241;43m=\u001b[39;49m\u001b[43mgroup\u001b[49m\u001b[43m[\u001b[49m\u001b[38;5;124;43m'\u001b[39;49m\u001b[38;5;124;43mfused\u001b[39;49m\u001b[38;5;124;43m'\u001b[39;49m\u001b[43m]\u001b[49m\u001b[43m,\u001b[49m\n\u001b[1;32m    181\u001b[0m \u001b[43m        \u001b[49m\u001b[43mgrad_scale\u001b[49m\u001b[38;5;241;43m=\u001b[39;49m\u001b[38;5;28;43mgetattr\u001b[39;49m\u001b[43m(\u001b[49m\u001b[38;5;28;43mself\u001b[39;49m\u001b[43m,\u001b[49m\u001b[43m \u001b[49m\u001b[38;5;124;43m\"\u001b[39;49m\u001b[38;5;124;43mgrad_scale\u001b[39;49m\u001b[38;5;124;43m\"\u001b[39;49m\u001b[43m,\u001b[49m\u001b[43m \u001b[49m\u001b[38;5;28;43;01mNone\u001b[39;49;00m\u001b[43m)\u001b[49m\u001b[43m,\u001b[49m\n\u001b[1;32m    182\u001b[0m \u001b[43m        \u001b[49m\u001b[43mfound_inf\u001b[49m\u001b[38;5;241;43m=\u001b[39;49m\u001b[38;5;28;43mgetattr\u001b[39;49m\u001b[43m(\u001b[49m\u001b[38;5;28;43mself\u001b[39;49m\u001b[43m,\u001b[49m\u001b[43m \u001b[49m\u001b[38;5;124;43m\"\u001b[39;49m\u001b[38;5;124;43mfound_inf\u001b[39;49m\u001b[38;5;124;43m\"\u001b[39;49m\u001b[43m,\u001b[49m\u001b[43m \u001b[49m\u001b[38;5;28;43;01mNone\u001b[39;49;00m\u001b[43m)\u001b[49m\u001b[43m,\u001b[49m\n\u001b[1;32m    183\u001b[0m \u001b[43m    \u001b[49m\u001b[43m)\u001b[49m\n\u001b[1;32m    185\u001b[0m \u001b[38;5;28;01mreturn\u001b[39;00m loss\n",
      "File \u001b[0;32m~/Library/Caches/pypoetry/virtualenvs/learning-Ku1AcnKG-py3.11/lib/python3.11/site-packages/torch/optim/adam.py:311\u001b[0m, in \u001b[0;36madam\u001b[0;34m(params, grads, exp_avgs, exp_avg_sqs, max_exp_avg_sqs, state_steps, foreach, capturable, differentiable, fused, grad_scale, found_inf, amsgrad, beta1, beta2, lr, weight_decay, eps, maximize)\u001b[0m\n\u001b[1;32m    308\u001b[0m \u001b[38;5;28;01melse\u001b[39;00m:\n\u001b[1;32m    309\u001b[0m     func \u001b[38;5;241m=\u001b[39m _single_tensor_adam\n\u001b[0;32m--> 311\u001b[0m \u001b[43mfunc\u001b[49m\u001b[43m(\u001b[49m\u001b[43mparams\u001b[49m\u001b[43m,\u001b[49m\n\u001b[1;32m    312\u001b[0m \u001b[43m     \u001b[49m\u001b[43mgrads\u001b[49m\u001b[43m,\u001b[49m\n\u001b[1;32m    313\u001b[0m \u001b[43m     \u001b[49m\u001b[43mexp_avgs\u001b[49m\u001b[43m,\u001b[49m\n\u001b[1;32m    314\u001b[0m \u001b[43m     \u001b[49m\u001b[43mexp_avg_sqs\u001b[49m\u001b[43m,\u001b[49m\n\u001b[1;32m    315\u001b[0m \u001b[43m     \u001b[49m\u001b[43mmax_exp_avg_sqs\u001b[49m\u001b[43m,\u001b[49m\n\u001b[1;32m    316\u001b[0m \u001b[43m     \u001b[49m\u001b[43mstate_steps\u001b[49m\u001b[43m,\u001b[49m\n\u001b[1;32m    317\u001b[0m \u001b[43m     \u001b[49m\u001b[43mamsgrad\u001b[49m\u001b[38;5;241;43m=\u001b[39;49m\u001b[43mamsgrad\u001b[49m\u001b[43m,\u001b[49m\n\u001b[1;32m    318\u001b[0m \u001b[43m     \u001b[49m\u001b[43mbeta1\u001b[49m\u001b[38;5;241;43m=\u001b[39;49m\u001b[43mbeta1\u001b[49m\u001b[43m,\u001b[49m\n\u001b[1;32m    319\u001b[0m \u001b[43m     \u001b[49m\u001b[43mbeta2\u001b[49m\u001b[38;5;241;43m=\u001b[39;49m\u001b[43mbeta2\u001b[49m\u001b[43m,\u001b[49m\n\u001b[1;32m    320\u001b[0m \u001b[43m     \u001b[49m\u001b[43mlr\u001b[49m\u001b[38;5;241;43m=\u001b[39;49m\u001b[43mlr\u001b[49m\u001b[43m,\u001b[49m\n\u001b[1;32m    321\u001b[0m \u001b[43m     \u001b[49m\u001b[43mweight_decay\u001b[49m\u001b[38;5;241;43m=\u001b[39;49m\u001b[43mweight_decay\u001b[49m\u001b[43m,\u001b[49m\n\u001b[1;32m    322\u001b[0m \u001b[43m     \u001b[49m\u001b[43meps\u001b[49m\u001b[38;5;241;43m=\u001b[39;49m\u001b[43meps\u001b[49m\u001b[43m,\u001b[49m\n\u001b[1;32m    323\u001b[0m \u001b[43m     \u001b[49m\u001b[43mmaximize\u001b[49m\u001b[38;5;241;43m=\u001b[39;49m\u001b[43mmaximize\u001b[49m\u001b[43m,\u001b[49m\n\u001b[1;32m    324\u001b[0m \u001b[43m     \u001b[49m\u001b[43mcapturable\u001b[49m\u001b[38;5;241;43m=\u001b[39;49m\u001b[43mcapturable\u001b[49m\u001b[43m,\u001b[49m\n\u001b[1;32m    325\u001b[0m \u001b[43m     \u001b[49m\u001b[43mdifferentiable\u001b[49m\u001b[38;5;241;43m=\u001b[39;49m\u001b[43mdifferentiable\u001b[49m\u001b[43m,\u001b[49m\n\u001b[1;32m    326\u001b[0m \u001b[43m     \u001b[49m\u001b[43mgrad_scale\u001b[49m\u001b[38;5;241;43m=\u001b[39;49m\u001b[43mgrad_scale\u001b[49m\u001b[43m,\u001b[49m\n\u001b[1;32m    327\u001b[0m \u001b[43m     \u001b[49m\u001b[43mfound_inf\u001b[49m\u001b[38;5;241;43m=\u001b[39;49m\u001b[43mfound_inf\u001b[49m\u001b[43m)\u001b[49m\n",
      "File \u001b[0;32m~/Library/Caches/pypoetry/virtualenvs/learning-Ku1AcnKG-py3.11/lib/python3.11/site-packages/torch/optim/adam.py:385\u001b[0m, in \u001b[0;36m_single_tensor_adam\u001b[0;34m(params, grads, exp_avgs, exp_avg_sqs, max_exp_avg_sqs, state_steps, grad_scale, found_inf, amsgrad, beta1, beta2, lr, weight_decay, eps, maximize, capturable, differentiable)\u001b[0m\n\u001b[1;32m    383\u001b[0m \u001b[38;5;66;03m# Decay the first and second moment running average coefficient\u001b[39;00m\n\u001b[1;32m    384\u001b[0m exp_avg\u001b[38;5;241m.\u001b[39mlerp_(grad, \u001b[38;5;241m1\u001b[39m \u001b[38;5;241m-\u001b[39m beta1)\n\u001b[0;32m--> 385\u001b[0m \u001b[43mexp_avg_sq\u001b[49m\u001b[38;5;241;43m.\u001b[39;49m\u001b[43mmul_\u001b[49m\u001b[43m(\u001b[49m\u001b[43mbeta2\u001b[49m\u001b[43m)\u001b[49m\u001b[38;5;241;43m.\u001b[39;49m\u001b[43maddcmul_\u001b[49m\u001b[43m(\u001b[49m\u001b[43mgrad\u001b[49m\u001b[43m,\u001b[49m\u001b[43m \u001b[49m\u001b[43mgrad\u001b[49m\u001b[38;5;241;43m.\u001b[39;49m\u001b[43mconj\u001b[49m\u001b[43m(\u001b[49m\u001b[43m)\u001b[49m\u001b[43m,\u001b[49m\u001b[43m \u001b[49m\u001b[43mvalue\u001b[49m\u001b[38;5;241;43m=\u001b[39;49m\u001b[38;5;241;43m1\u001b[39;49m\u001b[43m \u001b[49m\u001b[38;5;241;43m-\u001b[39;49m\u001b[43m \u001b[49m\u001b[43mbeta2\u001b[49m\u001b[43m)\u001b[49m\n\u001b[1;32m    387\u001b[0m \u001b[38;5;28;01mif\u001b[39;00m capturable \u001b[38;5;129;01mor\u001b[39;00m differentiable:\n\u001b[1;32m    388\u001b[0m     step \u001b[38;5;241m=\u001b[39m step_t\n",
      "\u001b[0;31mKeyboardInterrupt\u001b[0m: "
     ]
    }
   ],
   "source": [
    "num_epochs = 5\n",
    "\n",
    "for epoch in range(num_epochs):\n",
    "    model.train()\n",
    "\n",
    "    running_loss = 0.0\n",
    "    for batch in dataloader:\n",
    "        optimizer.zero_grad()\n",
    "        customer_ids, article_ids, ages, index_groups, garment_groups = batch\n",
    "        loss = model(customer_ids, article_ids, ages, index_groups, garment_groups)\n",
    "        loss.backward()\n",
    "        optimizer.step()\n",
    "        running_loss += loss.item()\n",
    "\n",
    "    print(f\"Epoch [{epoch+1}/{num_epochs}], Loss: {running_loss/len(train_loader)}\")"
   ]
  },
  {
   "cell_type": "code",
   "execution_count": null,
   "id": "3375c88e-9e70-4b9a-9b66-98bd39b02822",
   "metadata": {},
   "outputs": [],
   "source": []
  }
 ],
 "metadata": {
  "kernelspec": {
   "display_name": "Python 3 (ipykernel)",
   "language": "python",
   "name": "python3"
  },
  "language_info": {
   "codemirror_mode": {
    "name": "ipython",
    "version": 3
   },
   "file_extension": ".py",
   "mimetype": "text/x-python",
   "name": "python",
   "nbconvert_exporter": "python",
   "pygments_lexer": "ipython3",
   "version": "3.11.6"
  }
 },
 "nbformat": 4,
 "nbformat_minor": 5
}
