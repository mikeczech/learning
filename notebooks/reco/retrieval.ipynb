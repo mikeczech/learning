{
 "cells": [
  {
   "cell_type": "code",
   "execution_count": 1,
   "id": "c972e1b2-4c08-4fdf-8de8-d986116d8776",
   "metadata": {},
   "outputs": [],
   "source": [
    "%load_ext autoreload\n",
    "%autoreload 2"
   ]
  },
  {
   "cell_type": "code",
   "execution_count": 2,
   "id": "d38144d0-4031-419f-8ef9-e41cdbeb11ab",
   "metadata": {},
   "outputs": [],
   "source": [
    "from tqdm import tqdm\n",
    "\n",
    "import polars as pl\n",
    "from polars import col\n",
    "\n",
    "import torch\n",
    "from torch import optim\n",
    "from torch.utils.data import DataLoader, Dataset\n",
    "\n",
    "from retrieval import InteractionDataset, TwoTowerModel, QueryTower, ItemTower"
   ]
  },
  {
   "cell_type": "code",
   "execution_count": 3,
   "id": "0ccc5a07-9461-4152-95c3-c8505ba9ac8f",
   "metadata": {},
   "outputs": [],
   "source": [
    "USE_MPS = True"
   ]
  },
  {
   "cell_type": "code",
   "execution_count": 4,
   "id": "a2270ddb-3346-4ebb-9cd9-94c4b40e2599",
   "metadata": {},
   "outputs": [],
   "source": [
    "if USE_MPS and torch.backends.mps.is_available():\n",
    "    device = torch.device(\"mps\")\n",
    "else:\n",
    "    print (\"MPS device not found or disabled.\")\n",
    "    device = torch.device(\"cpu\")"
   ]
  },
  {
   "cell_type": "markdown",
   "id": "8ca762f2-2ccd-4d00-a776-e8ec97351ee8",
   "metadata": {},
   "source": [
    "## Load and Process Data"
   ]
  },
  {
   "cell_type": "code",
   "execution_count": 5,
   "id": "ec7a093e-88f3-443e-aca0-5064dfc7e7fb",
   "metadata": {},
   "outputs": [],
   "source": [
    "articles = pl.read_csv(\"data/articles.csv\", columns=[\"article_id\", \"garment_group_name\", \"index_group_name\"])\n",
    "customers = pl.read_csv(\"data/customers.csv\", columns=[\"customer_id\", \"age\", \"club_member_status\"]).filter(col(\"age\").is_not_null())\n",
    "transactions = pl.read_csv(\"data/transactions_train.csv\", columns=[\"customer_id\", \"article_id\", \"t_dat\", \"price\"])"
   ]
  },
  {
   "cell_type": "code",
   "execution_count": 6,
   "id": "16d8c664-fb30-4f74-8928-3c5eb819690e",
   "metadata": {},
   "outputs": [
    {
     "data": {
      "text/plain": [
       "((105542, 3), (1356119, 3), (31788324, 4))"
      ]
     },
     "execution_count": 6,
     "metadata": {},
     "output_type": "execute_result"
    }
   ],
   "source": [
    "articles.shape, customers.shape, transactions.shape"
   ]
  },
  {
   "cell_type": "markdown",
   "id": "90fb6039-26bb-4b65-beed-c0fc056d979b",
   "metadata": {},
   "source": [
    "### Articles"
   ]
  },
  {
   "cell_type": "code",
   "execution_count": 7,
   "id": "ce6933fe-78f2-44a0-b25c-7fd817b16118",
   "metadata": {},
   "outputs": [
    {
     "data": {
      "text/html": [
       "<div><style>\n",
       ".dataframe > thead > tr,\n",
       ".dataframe > tbody > tr {\n",
       "  text-align: right;\n",
       "  white-space: pre-wrap;\n",
       "}\n",
       "</style>\n",
       "<small>shape: (1, 3)</small><table border=\"1\" class=\"dataframe\"><thead><tr><th>article_id</th><th>index_group_name</th><th>garment_group_name</th></tr><tr><td>i64</td><td>str</td><td>str</td></tr></thead><tbody><tr><td>108775015</td><td>&quot;Ladieswear&quot;</td><td>&quot;Jersey Basic&quot;</td></tr></tbody></table></div>"
      ],
      "text/plain": [
       "shape: (1, 3)\n",
       "┌────────────┬──────────────────┬────────────────────┐\n",
       "│ article_id ┆ index_group_name ┆ garment_group_name │\n",
       "│ ---        ┆ ---              ┆ ---                │\n",
       "│ i64        ┆ str              ┆ str                │\n",
       "╞════════════╪══════════════════╪════════════════════╡\n",
       "│ 108775015  ┆ Ladieswear       ┆ Jersey Basic       │\n",
       "└────────────┴──────────────────┴────────────────────┘"
      ]
     },
     "execution_count": 7,
     "metadata": {},
     "output_type": "execute_result"
    }
   ],
   "source": [
    "articles.head(1)"
   ]
  },
  {
   "cell_type": "code",
   "execution_count": 8,
   "id": "ed5377b6-c63f-4672-983e-d1e7a3a53dda",
   "metadata": {
    "scrolled": true
   },
   "outputs": [
    {
     "data": {
      "text/html": [
       "<div><style>\n",
       ".dataframe > thead > tr,\n",
       ".dataframe > tbody > tr {\n",
       "  text-align: right;\n",
       "  white-space: pre-wrap;\n",
       "}\n",
       "</style>\n",
       "<small>shape: (1, 3)</small><table border=\"1\" class=\"dataframe\"><thead><tr><th>article_id</th><th>garment_group_name</th><th>index_group_name</th></tr><tr><td>u32</td><td>u32</td><td>u32</td></tr></thead><tbody><tr><td>105542</td><td>21</td><td>5</td></tr></tbody></table></div>"
      ],
      "text/plain": [
       "shape: (1, 3)\n",
       "┌────────────┬────────────────────┬──────────────────┐\n",
       "│ article_id ┆ garment_group_name ┆ index_group_name │\n",
       "│ ---        ┆ ---                ┆ ---              │\n",
       "│ u32        ┆ u32                ┆ u32              │\n",
       "╞════════════╪════════════════════╪══════════════════╡\n",
       "│ 105542     ┆ 21                 ┆ 5                │\n",
       "└────────────┴────────────────────┴──────────────────┘"
      ]
     },
     "execution_count": 8,
     "metadata": {},
     "output_type": "execute_result"
    }
   ],
   "source": [
    "articles.select([\n",
    "    col(\"article_id\").n_unique(),\n",
    "    col(\"garment_group_name\").n_unique(),\n",
    "    col(\"index_group_name\").n_unique(),\n",
    "])"
   ]
  },
  {
   "cell_type": "markdown",
   "id": "edd377cb-03e7-4acd-9bec-afef30262471",
   "metadata": {},
   "source": [
    "### Customers"
   ]
  },
  {
   "cell_type": "code",
   "execution_count": 9,
   "id": "9cd20245-f5eb-4412-9b7d-df776613bdf4",
   "metadata": {},
   "outputs": [
    {
     "data": {
      "text/html": [
       "<div><style>\n",
       ".dataframe > thead > tr,\n",
       ".dataframe > tbody > tr {\n",
       "  text-align: right;\n",
       "  white-space: pre-wrap;\n",
       "}\n",
       "</style>\n",
       "<small>shape: (1, 3)</small><table border=\"1\" class=\"dataframe\"><thead><tr><th>customer_id</th><th>club_member_status</th><th>age</th></tr><tr><td>str</td><td>str</td><td>i64</td></tr></thead><tbody><tr><td>&quot;00000dbacae5ab…</td><td>&quot;ACTIVE&quot;</td><td>49</td></tr></tbody></table></div>"
      ],
      "text/plain": [
       "shape: (1, 3)\n",
       "┌───────────────────────────────────┬────────────────────┬─────┐\n",
       "│ customer_id                       ┆ club_member_status ┆ age │\n",
       "│ ---                               ┆ ---                ┆ --- │\n",
       "│ str                               ┆ str                ┆ i64 │\n",
       "╞═══════════════════════════════════╪════════════════════╪═════╡\n",
       "│ 00000dbacae5abe5e23885899a1fa442… ┆ ACTIVE             ┆ 49  │\n",
       "└───────────────────────────────────┴────────────────────┴─────┘"
      ]
     },
     "execution_count": 9,
     "metadata": {},
     "output_type": "execute_result"
    }
   ],
   "source": [
    "customers.head(1)"
   ]
  },
  {
   "cell_type": "code",
   "execution_count": 10,
   "id": "c3ae7378-308e-40a3-88e0-6be5ffe42a73",
   "metadata": {},
   "outputs": [
    {
     "data": {
      "text/html": [
       "<div><style>\n",
       ".dataframe > thead > tr,\n",
       ".dataframe > tbody > tr {\n",
       "  text-align: right;\n",
       "  white-space: pre-wrap;\n",
       "}\n",
       "</style>\n",
       "<small>shape: (1, 3)</small><table border=\"1\" class=\"dataframe\"><thead><tr><th>customer_id</th><th>club_member_status</th><th>age</th></tr><tr><td>u32</td><td>u32</td><td>u32</td></tr></thead><tbody><tr><td>1356119</td><td>4</td><td>84</td></tr></tbody></table></div>"
      ],
      "text/plain": [
       "shape: (1, 3)\n",
       "┌─────────────┬────────────────────┬─────┐\n",
       "│ customer_id ┆ club_member_status ┆ age │\n",
       "│ ---         ┆ ---                ┆ --- │\n",
       "│ u32         ┆ u32                ┆ u32 │\n",
       "╞═════════════╪════════════════════╪═════╡\n",
       "│ 1356119     ┆ 4                  ┆ 84  │\n",
       "└─────────────┴────────────────────┴─────┘"
      ]
     },
     "execution_count": 10,
     "metadata": {},
     "output_type": "execute_result"
    }
   ],
   "source": [
    "customers.select([\n",
    "    col(\"customer_id\").n_unique(),\n",
    "    col(\"club_member_status\").n_unique(),\n",
    "    col(\"age\").n_unique(),\n",
    "])"
   ]
  },
  {
   "cell_type": "markdown",
   "id": "e8eaf732-fbf6-43bd-9e68-a19460b9526e",
   "metadata": {},
   "source": [
    "### Transactions"
   ]
  },
  {
   "cell_type": "code",
   "execution_count": 11,
   "id": "4cfedaef-4c01-4c9b-955c-084d9ef8090d",
   "metadata": {},
   "outputs": [
    {
     "data": {
      "text/html": [
       "<div><style>\n",
       ".dataframe > thead > tr,\n",
       ".dataframe > tbody > tr {\n",
       "  text-align: right;\n",
       "  white-space: pre-wrap;\n",
       "}\n",
       "</style>\n",
       "<small>shape: (1, 4)</small><table border=\"1\" class=\"dataframe\"><thead><tr><th>t_dat</th><th>customer_id</th><th>article_id</th><th>price</th></tr><tr><td>str</td><td>str</td><td>i64</td><td>f64</td></tr></thead><tbody><tr><td>&quot;2018-09-20&quot;</td><td>&quot;000058a12d5b43…</td><td>663713001</td><td>0.050831</td></tr></tbody></table></div>"
      ],
      "text/plain": [
       "shape: (1, 4)\n",
       "┌────────────┬───────────────────────────────────┬────────────┬──────────┐\n",
       "│ t_dat      ┆ customer_id                       ┆ article_id ┆ price    │\n",
       "│ ---        ┆ ---                               ┆ ---        ┆ ---      │\n",
       "│ str        ┆ str                               ┆ i64        ┆ f64      │\n",
       "╞════════════╪═══════════════════════════════════╪════════════╪══════════╡\n",
       "│ 2018-09-20 ┆ 000058a12d5b43e67d225668fa1f8d61… ┆ 663713001  ┆ 0.050831 │\n",
       "└────────────┴───────────────────────────────────┴────────────┴──────────┘"
      ]
     },
     "execution_count": 11,
     "metadata": {},
     "output_type": "execute_result"
    }
   ],
   "source": [
    "transactions.head(1)"
   ]
  },
  {
   "cell_type": "code",
   "execution_count": 12,
   "id": "d98bc377-8c07-4f79-abfa-941b5324bc30",
   "metadata": {},
   "outputs": [
    {
     "data": {
      "text/html": [
       "<div><style>\n",
       ".dataframe > thead > tr,\n",
       ".dataframe > tbody > tr {\n",
       "  text-align: right;\n",
       "  white-space: pre-wrap;\n",
       "}\n",
       "</style>\n",
       "<small>shape: (1, 4)</small><table border=\"1\" class=\"dataframe\"><thead><tr><th>t_dat</th><th>customer_id</th><th>article_id</th><th>price</th></tr><tr><td>u32</td><td>u32</td><td>u32</td><td>u32</td></tr></thead><tbody><tr><td>734</td><td>1362281</td><td>104547</td><td>9857</td></tr></tbody></table></div>"
      ],
      "text/plain": [
       "shape: (1, 4)\n",
       "┌───────┬─────────────┬────────────┬───────┐\n",
       "│ t_dat ┆ customer_id ┆ article_id ┆ price │\n",
       "│ ---   ┆ ---         ┆ ---        ┆ ---   │\n",
       "│ u32   ┆ u32         ┆ u32        ┆ u32   │\n",
       "╞═══════╪═════════════╪════════════╪═══════╡\n",
       "│ 734   ┆ 1362281     ┆ 104547     ┆ 9857  │\n",
       "└───────┴─────────────┴────────────┴───────┘"
      ]
     },
     "execution_count": 12,
     "metadata": {},
     "output_type": "execute_result"
    }
   ],
   "source": [
    "transactions.select([\n",
    "    col(\"t_dat\").n_unique(),\n",
    "    col(\"customer_id\").n_unique(),\n",
    "    col(\"article_id\").n_unique(),\n",
    "    col(\"price\").n_unique()\n",
    "])"
   ]
  },
  {
   "cell_type": "markdown",
   "id": "fea12a4e-3e4d-471e-b4db-647211641a81",
   "metadata": {},
   "source": [
    "### Create Queries"
   ]
  },
  {
   "cell_type": "code",
   "execution_count": null,
   "id": "fb48c75d-531e-446a-937b-8b9bb89272e3",
   "metadata": {},
   "outputs": [],
   "source": [
    "query = transactions.join(customers, on=\"customer_id\", how=\"inner\").join(articles, on=\"article_id\", how=\"inner\").with_columns([\n",
    "    col(\"article_id\").cast(pl.Utf8)\n",
    "]).sample(10000)\n",
    "\n",
    "query.shape"
   ]
  },
  {
   "cell_type": "code",
   "execution_count": 14,
   "id": "df74b8d1-e105-4a61-bf20-bf740d318933",
   "metadata": {
    "scrolled": true
   },
   "outputs": [
    {
     "data": {
      "text/html": [
       "<div><style>\n",
       ".dataframe > thead > tr,\n",
       ".dataframe > tbody > tr {\n",
       "  text-align: right;\n",
       "  white-space: pre-wrap;\n",
       "}\n",
       "</style>\n",
       "<small>shape: (5, 8)</small><table border=\"1\" class=\"dataframe\"><thead><tr><th>t_dat</th><th>customer_id</th><th>article_id</th><th>price</th><th>club_member_status</th><th>age</th><th>index_group_name</th><th>garment_group_name</th></tr><tr><td>str</td><td>str</td><td>i64</td><td>f64</td><td>str</td><td>i64</td><td>str</td><td>str</td></tr></thead><tbody><tr><td>&quot;2020-06-20&quot;</td><td>&quot;40b2b9014d7423…</td><td>866837004</td><td>0.022017</td><td>&quot;ACTIVE&quot;</td><td>34</td><td>&quot;Ladieswear&quot;</td><td>&quot;Jersey Fancy&quot;</td></tr><tr><td>&quot;2020-01-01&quot;</td><td>&quot;ccdea851a6bddf…</td><td>717773001</td><td>0.013542</td><td>&quot;ACTIVE&quot;</td><td>29</td><td>&quot;Ladieswear&quot;</td><td>&quot;Accessories&quot;</td></tr><tr><td>&quot;2020-06-17&quot;</td><td>&quot;885af1de025c20…</td><td>745219002</td><td>0.010831</td><td>&quot;ACTIVE&quot;</td><td>20</td><td>&quot;Divided&quot;</td><td>&quot;Blouses&quot;</td></tr><tr><td>&quot;2020-01-08&quot;</td><td>&quot;47685766345f2d…</td><td>568601007</td><td>0.050831</td><td>&quot;ACTIVE&quot;</td><td>28</td><td>&quot;Ladieswear&quot;</td><td>&quot;Dressed&quot;</td></tr><tr><td>&quot;2018-10-10&quot;</td><td>&quot;cca6a80fc7a233…</td><td>657395002</td><td>0.027102</td><td>&quot;ACTIVE&quot;</td><td>25</td><td>&quot;Ladieswear&quot;</td><td>&quot;Blouses&quot;</td></tr></tbody></table></div>"
      ],
      "text/plain": [
       "shape: (5, 8)\n",
       "┌────────────┬─────────────┬────────────┬──────────┬─────────────┬─────┬─────────────┬─────────────┐\n",
       "│ t_dat      ┆ customer_id ┆ article_id ┆ price    ┆ club_member ┆ age ┆ index_group ┆ garment_gro │\n",
       "│ ---        ┆ ---         ┆ ---        ┆ ---      ┆ _status     ┆ --- ┆ _name       ┆ up_name     │\n",
       "│ str        ┆ str         ┆ i64        ┆ f64      ┆ ---         ┆ i64 ┆ ---         ┆ ---         │\n",
       "│            ┆             ┆            ┆          ┆ str         ┆     ┆ str         ┆ str         │\n",
       "╞════════════╪═════════════╪════════════╪══════════╪═════════════╪═════╪═════════════╪═════════════╡\n",
       "│ 2020-06-20 ┆ 40b2b9014d7 ┆ 866837004  ┆ 0.022017 ┆ ACTIVE      ┆ 34  ┆ Ladieswear  ┆ Jersey      │\n",
       "│            ┆ 423e60ad62e ┆            ┆          ┆             ┆     ┆             ┆ Fancy       │\n",
       "│            ┆ d4693b2ec3… ┆            ┆          ┆             ┆     ┆             ┆             │\n",
       "│ 2020-01-01 ┆ ccdea851a6b ┆ 717773001  ┆ 0.013542 ┆ ACTIVE      ┆ 29  ┆ Ladieswear  ┆ Accessories │\n",
       "│            ┆ ddfa3242003 ┆            ┆          ┆             ┆     ┆             ┆             │\n",
       "│            ┆ c8747b0202… ┆            ┆          ┆             ┆     ┆             ┆             │\n",
       "│ 2020-06-17 ┆ 885af1de025 ┆ 745219002  ┆ 0.010831 ┆ ACTIVE      ┆ 20  ┆ Divided     ┆ Blouses     │\n",
       "│            ┆ c20717be94a ┆            ┆          ┆             ┆     ┆             ┆             │\n",
       "│            ┆ 0ae95a0149… ┆            ┆          ┆             ┆     ┆             ┆             │\n",
       "│ 2020-01-08 ┆ 47685766345 ┆ 568601007  ┆ 0.050831 ┆ ACTIVE      ┆ 28  ┆ Ladieswear  ┆ Dressed     │\n",
       "│            ┆ f2dbb66b0bc ┆            ┆          ┆             ┆     ┆             ┆             │\n",
       "│            ┆ 7c27f439fb… ┆            ┆          ┆             ┆     ┆             ┆             │\n",
       "│ 2018-10-10 ┆ cca6a80fc7a ┆ 657395002  ┆ 0.027102 ┆ ACTIVE      ┆ 25  ┆ Ladieswear  ┆ Blouses     │\n",
       "│            ┆ 2334124c8f1 ┆            ┆          ┆             ┆     ┆             ┆             │\n",
       "│            ┆ d18911e280… ┆            ┆          ┆             ┆     ┆             ┆             │\n",
       "└────────────┴─────────────┴────────────┴──────────┴─────────────┴─────┴─────────────┴─────────────┘"
      ]
     },
     "execution_count": 14,
     "metadata": {},
     "output_type": "execute_result"
    }
   ],
   "source": [
    "query.sample(5)"
   ]
  },
  {
   "cell_type": "markdown",
   "id": "8b225975-5a72-43bc-a124-a4eda7e2a64a",
   "metadata": {},
   "source": [
    "## Retrieval Model"
   ]
  },
  {
   "cell_type": "code",
   "execution_count": 15,
   "id": "f8865648-f177-497b-87c0-9de512b2be7e",
   "metadata": {},
   "outputs": [],
   "source": [
    "all_customer_ids = customers[\"customer_id\"].unique().to_list()\n",
    "all_item_ids = articles[\"article_id\"].unique().cast(pl.Utf8).to_list()\n",
    "all_index_groups = articles[\"index_group_name\"].unique().to_list()\n",
    "all_garment_groups = articles[\"garment_group_name\"].unique().to_list()"
   ]
  },
  {
   "cell_type": "code",
   "execution_count": 16,
   "id": "23015e02-f0e2-42c5-9160-90a11143ef13",
   "metadata": {},
   "outputs": [
    {
     "ename": "NameError",
     "evalue": "name 'mps_device' is not defined",
     "output_type": "error",
     "traceback": [
      "\u001b[0;31m---------------------------------------------------------------------------\u001b[0m",
      "\u001b[0;31mNameError\u001b[0m                                 Traceback (most recent call last)",
      "Cell \u001b[0;32mIn[16], line 3\u001b[0m\n\u001b[1;32m      1\u001b[0m query_model \u001b[38;5;241m=\u001b[39m QueryTower(all_customer_ids, device)\u001b[38;5;241m.\u001b[39mto(device)\n\u001b[1;32m      2\u001b[0m item_model \u001b[38;5;241m=\u001b[39m ItemTower(all_item_ids, all_index_groups, all_garment_groups, device)\u001b[38;5;241m.\u001b[39mto(device)\n\u001b[0;32m----> 3\u001b[0m model \u001b[38;5;241m=\u001b[39m TwoTowerModel(query_model, item_model, \u001b[43mmps_device\u001b[49m)\u001b[38;5;241m.\u001b[39mto(device)\n\u001b[1;32m      4\u001b[0m dataset \u001b[38;5;241m=\u001b[39m InteractionDataset(query, device)\n\u001b[1;32m      5\u001b[0m optimizer \u001b[38;5;241m=\u001b[39m optim\u001b[38;5;241m.\u001b[39mAdam(model\u001b[38;5;241m.\u001b[39mparameters())\n",
      "\u001b[0;31mNameError\u001b[0m: name 'mps_device' is not defined"
     ]
    }
   ],
   "source": [
    "query_model = QueryTower(all_customer_ids, device).to(device)\n",
    "item_model = ItemTower(all_item_ids, all_index_groups, all_garment_groups, device).to(device)\n",
    "model = TwoTowerModel(query_model, item_model, mps_device).to(device)\n",
    "dataset = InteractionDataset(query, device)\n",
    "optimizer = optim.Adam(model.parameters())"
   ]
  },
  {
   "cell_type": "code",
   "execution_count": null,
   "id": "22e1e1b5-ea4c-4828-a4b3-693b96289ea0",
   "metadata": {},
   "outputs": [],
   "source": [
    "dataloader = DataLoader(dataset, batch_size=512, shuffle=True)"
   ]
  },
  {
   "cell_type": "code",
   "execution_count": null,
   "id": "1abaf455-3bc1-4460-81ba-81dec1564963",
   "metadata": {
    "scrolled": true
   },
   "outputs": [],
   "source": [
    "num_epochs = 100\n",
    "\n",
    "for epoch in range(num_epochs):\n",
    "    model.train()\n",
    "\n",
    "    running_loss = 0.0\n",
    "    for batch in tqdm(dataloader):\n",
    "        optimizer.zero_grad()\n",
    "        customer_ids, article_ids, ages, index_groups, garment_groups = batch\n",
    "        loss = model(customer_ids, article_ids, ages, index_groups, garment_groups)\n",
    "        loss.backward()\n",
    "        optimizer.step()\n",
    "        running_loss += loss.item()\n",
    "\n",
    "    print(f\"Epoch [{epoch+1}/{num_epochs}], Loss: {running_loss/len(dataloader)}\")"
   ]
  },
  {
   "cell_type": "code",
   "execution_count": null,
   "id": "1be326ae-6b96-44b9-b1ee-4d60cd88c101",
   "metadata": {},
   "outputs": [],
   "source": []
  },
  {
   "cell_type": "code",
   "execution_count": null,
   "id": "f2abf50b-5b7c-46f7-bdbf-125a879bd01f",
   "metadata": {},
   "outputs": [],
   "source": []
  }
 ],
 "metadata": {
  "kernelspec": {
   "display_name": "Python 3 (ipykernel)",
   "language": "python",
   "name": "python3"
  },
  "language_info": {
   "codemirror_mode": {
    "name": "ipython",
    "version": 3
   },
   "file_extension": ".py",
   "mimetype": "text/x-python",
   "name": "python",
   "nbconvert_exporter": "python",
   "pygments_lexer": "ipython3",
   "version": "3.11.6"
  }
 },
 "nbformat": 4,
 "nbformat_minor": 5
}
