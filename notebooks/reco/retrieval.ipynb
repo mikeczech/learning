{
 "cells": [
  {
   "cell_type": "code",
   "execution_count": 60,
   "id": "c972e1b2-4c08-4fdf-8de8-d986116d8776",
   "metadata": {},
   "outputs": [
    {
     "name": "stdout",
     "output_type": "stream",
     "text": [
      "The autoreload extension is already loaded. To reload it, use:\n",
      "  %reload_ext autoreload\n"
     ]
    }
   ],
   "source": [
    "%load_ext autoreload\n",
    "%autoreload 2"
   ]
  },
  {
   "cell_type": "code",
   "execution_count": 70,
   "id": "d38144d0-4031-419f-8ef9-e41cdbeb11ab",
   "metadata": {},
   "outputs": [],
   "source": [
    "import polars as pl\n",
    "from polars import col"
   ]
  },
  {
   "cell_type": "markdown",
   "id": "8ca762f2-2ccd-4d00-a776-e8ec97351ee8",
   "metadata": {},
   "source": [
    "## Load and Process Data"
   ]
  },
  {
   "cell_type": "code",
   "execution_count": 79,
   "id": "ec7a093e-88f3-443e-aca0-5064dfc7e7fb",
   "metadata": {},
   "outputs": [],
   "source": [
    "articles = pl.read_csv(\"data/articles.csv\", columns=[\"article_id\", \"garment_group_name\", \"index_group_name\"])\n",
    "customers = pl.read_csv(\"data/customers.csv\", columns=[\"customer_id\", \"age\", \"club_member_status\"]).filter(col(\"age\").is_not_null())\n",
    "transactions = pl.read_csv(\"data/transactions_train.csv\", columns=[\"customer_id\", \"article_id\", \"t_dat\", \"price\"])"
   ]
  },
  {
   "cell_type": "code",
   "execution_count": 80,
   "id": "16d8c664-fb30-4f74-8928-3c5eb819690e",
   "metadata": {},
   "outputs": [
    {
     "data": {
      "text/plain": [
       "((105542, 3), (1356119, 3), (31788324, 4))"
      ]
     },
     "execution_count": 80,
     "metadata": {},
     "output_type": "execute_result"
    }
   ],
   "source": [
    "articles.shape, customers.shape, transactions.shape"
   ]
  },
  {
   "cell_type": "markdown",
   "id": "90fb6039-26bb-4b65-beed-c0fc056d979b",
   "metadata": {},
   "source": [
    "### Articles"
   ]
  },
  {
   "cell_type": "code",
   "execution_count": 81,
   "id": "ce6933fe-78f2-44a0-b25c-7fd817b16118",
   "metadata": {},
   "outputs": [
    {
     "data": {
      "text/html": [
       "<div><style>\n",
       ".dataframe > thead > tr,\n",
       ".dataframe > tbody > tr {\n",
       "  text-align: right;\n",
       "  white-space: pre-wrap;\n",
       "}\n",
       "</style>\n",
       "<small>shape: (1, 3)</small><table border=\"1\" class=\"dataframe\"><thead><tr><th>article_id</th><th>index_group_name</th><th>garment_group_name</th></tr><tr><td>i64</td><td>str</td><td>str</td></tr></thead><tbody><tr><td>108775015</td><td>&quot;Ladieswear&quot;</td><td>&quot;Jersey Basic&quot;</td></tr></tbody></table></div>"
      ],
      "text/plain": [
       "shape: (1, 3)\n",
       "┌────────────┬──────────────────┬────────────────────┐\n",
       "│ article_id ┆ index_group_name ┆ garment_group_name │\n",
       "│ ---        ┆ ---              ┆ ---                │\n",
       "│ i64        ┆ str              ┆ str                │\n",
       "╞════════════╪══════════════════╪════════════════════╡\n",
       "│ 108775015  ┆ Ladieswear       ┆ Jersey Basic       │\n",
       "└────────────┴──────────────────┴────────────────────┘"
      ]
     },
     "execution_count": 81,
     "metadata": {},
     "output_type": "execute_result"
    }
   ],
   "source": [
    "articles.head(1)"
   ]
  },
  {
   "cell_type": "code",
   "execution_count": 82,
   "id": "ed5377b6-c63f-4672-983e-d1e7a3a53dda",
   "metadata": {},
   "outputs": [
    {
     "data": {
      "text/html": [
       "<div><style>\n",
       ".dataframe > thead > tr,\n",
       ".dataframe > tbody > tr {\n",
       "  text-align: right;\n",
       "  white-space: pre-wrap;\n",
       "}\n",
       "</style>\n",
       "<small>shape: (1, 3)</small><table border=\"1\" class=\"dataframe\"><thead><tr><th>article_id</th><th>garment_group_name</th><th>index_group_name</th></tr><tr><td>u32</td><td>u32</td><td>u32</td></tr></thead><tbody><tr><td>105542</td><td>21</td><td>5</td></tr></tbody></table></div>"
      ],
      "text/plain": [
       "shape: (1, 3)\n",
       "┌────────────┬────────────────────┬──────────────────┐\n",
       "│ article_id ┆ garment_group_name ┆ index_group_name │\n",
       "│ ---        ┆ ---                ┆ ---              │\n",
       "│ u32        ┆ u32                ┆ u32              │\n",
       "╞════════════╪════════════════════╪══════════════════╡\n",
       "│ 105542     ┆ 21                 ┆ 5                │\n",
       "└────────────┴────────────────────┴──────────────────┘"
      ]
     },
     "execution_count": 82,
     "metadata": {},
     "output_type": "execute_result"
    }
   ],
   "source": [
    "articles.select([\n",
    "    col(\"article_id\").n_unique(),\n",
    "    col(\"garment_group_name\").n_unique(),\n",
    "    col(\"index_group_name\").n_unique(),\n",
    "])"
   ]
  },
  {
   "cell_type": "markdown",
   "id": "edd377cb-03e7-4acd-9bec-afef30262471",
   "metadata": {},
   "source": [
    "### Customers"
   ]
  },
  {
   "cell_type": "code",
   "execution_count": 83,
   "id": "9cd20245-f5eb-4412-9b7d-df776613bdf4",
   "metadata": {},
   "outputs": [
    {
     "data": {
      "text/html": [
       "<div><style>\n",
       ".dataframe > thead > tr,\n",
       ".dataframe > tbody > tr {\n",
       "  text-align: right;\n",
       "  white-space: pre-wrap;\n",
       "}\n",
       "</style>\n",
       "<small>shape: (1, 3)</small><table border=\"1\" class=\"dataframe\"><thead><tr><th>customer_id</th><th>club_member_status</th><th>age</th></tr><tr><td>str</td><td>str</td><td>i64</td></tr></thead><tbody><tr><td>&quot;00000dbacae5ab…</td><td>&quot;ACTIVE&quot;</td><td>49</td></tr></tbody></table></div>"
      ],
      "text/plain": [
       "shape: (1, 3)\n",
       "┌───────────────────────────────────┬────────────────────┬─────┐\n",
       "│ customer_id                       ┆ club_member_status ┆ age │\n",
       "│ ---                               ┆ ---                ┆ --- │\n",
       "│ str                               ┆ str                ┆ i64 │\n",
       "╞═══════════════════════════════════╪════════════════════╪═════╡\n",
       "│ 00000dbacae5abe5e23885899a1fa442… ┆ ACTIVE             ┆ 49  │\n",
       "└───────────────────────────────────┴────────────────────┴─────┘"
      ]
     },
     "execution_count": 83,
     "metadata": {},
     "output_type": "execute_result"
    }
   ],
   "source": [
    "customers.head(1)"
   ]
  },
  {
   "cell_type": "code",
   "execution_count": 84,
   "id": "c3ae7378-308e-40a3-88e0-6be5ffe42a73",
   "metadata": {},
   "outputs": [
    {
     "data": {
      "text/html": [
       "<div><style>\n",
       ".dataframe > thead > tr,\n",
       ".dataframe > tbody > tr {\n",
       "  text-align: right;\n",
       "  white-space: pre-wrap;\n",
       "}\n",
       "</style>\n",
       "<small>shape: (1, 3)</small><table border=\"1\" class=\"dataframe\"><thead><tr><th>customer_id</th><th>club_member_status</th><th>age</th></tr><tr><td>u32</td><td>u32</td><td>u32</td></tr></thead><tbody><tr><td>1356119</td><td>4</td><td>84</td></tr></tbody></table></div>"
      ],
      "text/plain": [
       "shape: (1, 3)\n",
       "┌─────────────┬────────────────────┬─────┐\n",
       "│ customer_id ┆ club_member_status ┆ age │\n",
       "│ ---         ┆ ---                ┆ --- │\n",
       "│ u32         ┆ u32                ┆ u32 │\n",
       "╞═════════════╪════════════════════╪═════╡\n",
       "│ 1356119     ┆ 4                  ┆ 84  │\n",
       "└─────────────┴────────────────────┴─────┘"
      ]
     },
     "execution_count": 84,
     "metadata": {},
     "output_type": "execute_result"
    }
   ],
   "source": [
    "customers.select([\n",
    "    col(\"customer_id\").n_unique(),\n",
    "    col(\"club_member_status\").n_unique(),\n",
    "    col(\"age\").n_unique(),\n",
    "])"
   ]
  },
  {
   "cell_type": "markdown",
   "id": "e8eaf732-fbf6-43bd-9e68-a19460b9526e",
   "metadata": {},
   "source": [
    "### Transactions"
   ]
  },
  {
   "cell_type": "code",
   "execution_count": 85,
   "id": "4cfedaef-4c01-4c9b-955c-084d9ef8090d",
   "metadata": {},
   "outputs": [
    {
     "data": {
      "text/html": [
       "<div><style>\n",
       ".dataframe > thead > tr,\n",
       ".dataframe > tbody > tr {\n",
       "  text-align: right;\n",
       "  white-space: pre-wrap;\n",
       "}\n",
       "</style>\n",
       "<small>shape: (1, 4)</small><table border=\"1\" class=\"dataframe\"><thead><tr><th>t_dat</th><th>customer_id</th><th>article_id</th><th>price</th></tr><tr><td>str</td><td>str</td><td>i64</td><td>f64</td></tr></thead><tbody><tr><td>&quot;2018-09-20&quot;</td><td>&quot;000058a12d5b43…</td><td>663713001</td><td>0.050831</td></tr></tbody></table></div>"
      ],
      "text/plain": [
       "shape: (1, 4)\n",
       "┌────────────┬───────────────────────────────────┬────────────┬──────────┐\n",
       "│ t_dat      ┆ customer_id                       ┆ article_id ┆ price    │\n",
       "│ ---        ┆ ---                               ┆ ---        ┆ ---      │\n",
       "│ str        ┆ str                               ┆ i64        ┆ f64      │\n",
       "╞════════════╪═══════════════════════════════════╪════════════╪══════════╡\n",
       "│ 2018-09-20 ┆ 000058a12d5b43e67d225668fa1f8d61… ┆ 663713001  ┆ 0.050831 │\n",
       "└────────────┴───────────────────────────────────┴────────────┴──────────┘"
      ]
     },
     "execution_count": 85,
     "metadata": {},
     "output_type": "execute_result"
    }
   ],
   "source": [
    "transactions.head(1)"
   ]
  },
  {
   "cell_type": "code",
   "execution_count": 86,
   "id": "d98bc377-8c07-4f79-abfa-941b5324bc30",
   "metadata": {},
   "outputs": [
    {
     "data": {
      "text/html": [
       "<div><style>\n",
       ".dataframe > thead > tr,\n",
       ".dataframe > tbody > tr {\n",
       "  text-align: right;\n",
       "  white-space: pre-wrap;\n",
       "}\n",
       "</style>\n",
       "<small>shape: (1, 4)</small><table border=\"1\" class=\"dataframe\"><thead><tr><th>t_dat</th><th>customer_id</th><th>article_id</th><th>price</th></tr><tr><td>u32</td><td>u32</td><td>u32</td><td>u32</td></tr></thead><tbody><tr><td>734</td><td>1362281</td><td>104547</td><td>9857</td></tr></tbody></table></div>"
      ],
      "text/plain": [
       "shape: (1, 4)\n",
       "┌───────┬─────────────┬────────────┬───────┐\n",
       "│ t_dat ┆ customer_id ┆ article_id ┆ price │\n",
       "│ ---   ┆ ---         ┆ ---        ┆ ---   │\n",
       "│ u32   ┆ u32         ┆ u32        ┆ u32   │\n",
       "╞═══════╪═════════════╪════════════╪═══════╡\n",
       "│ 734   ┆ 1362281     ┆ 104547     ┆ 9857  │\n",
       "└───────┴─────────────┴────────────┴───────┘"
      ]
     },
     "execution_count": 86,
     "metadata": {},
     "output_type": "execute_result"
    }
   ],
   "source": [
    "transactions.select([\n",
    "    col(\"t_dat\").n_unique(),\n",
    "    col(\"customer_id\").n_unique(),\n",
    "    col(\"article_id\").n_unique(),\n",
    "    col(\"price\").n_unique()\n",
    "])"
   ]
  },
  {
   "cell_type": "markdown",
   "id": "fea12a4e-3e4d-471e-b4db-647211641a81",
   "metadata": {},
   "source": [
    "### Create Queries"
   ]
  },
  {
   "cell_type": "code",
   "execution_count": 169,
   "id": "fb48c75d-531e-446a-937b-8b9bb89272e3",
   "metadata": {},
   "outputs": [
    {
     "data": {
      "text/plain": [
       "(31648066, 8)"
      ]
     },
     "execution_count": 169,
     "metadata": {},
     "output_type": "execute_result"
    }
   ],
   "source": [
    "query = transactions.join(customers, on=\"customer_id\", how=\"inner\").join(articles, on=\"article_id\", how=\"inner\")\n",
    "query.shape"
   ]
  },
  {
   "cell_type": "code",
   "execution_count": 170,
   "id": "df74b8d1-e105-4a61-bf20-bf740d318933",
   "metadata": {},
   "outputs": [
    {
     "data": {
      "text/html": [
       "<div><style>\n",
       ".dataframe > thead > tr,\n",
       ".dataframe > tbody > tr {\n",
       "  text-align: right;\n",
       "  white-space: pre-wrap;\n",
       "}\n",
       "</style>\n",
       "<small>shape: (5, 8)</small><table border=\"1\" class=\"dataframe\"><thead><tr><th>t_dat</th><th>customer_id</th><th>article_id</th><th>price</th><th>club_member_status</th><th>age</th><th>index_group_name</th><th>garment_group_name</th></tr><tr><td>str</td><td>str</td><td>i64</td><td>f64</td><td>str</td><td>i64</td><td>str</td><td>str</td></tr></thead><tbody><tr><td>&quot;2019-10-23&quot;</td><td>&quot;a575ce13ded7fb…</td><td>759847005</td><td>0.027441</td><td>&quot;ACTIVE&quot;</td><td>29</td><td>&quot;Ladieswear&quot;</td><td>&quot;Jersey Fancy&quot;</td></tr><tr><td>&quot;2020-04-22&quot;</td><td>&quot;4e6d535d689fcd…</td><td>750424009</td><td>0.042356</td><td>&quot;ACTIVE&quot;</td><td>54</td><td>&quot;Ladieswear&quot;</td><td>&quot;Trousers&quot;</td></tr><tr><td>&quot;2019-03-26&quot;</td><td>&quot;7c698781597861…</td><td>732842002</td><td>0.06778</td><td>&quot;ACTIVE&quot;</td><td>28</td><td>&quot;Divided&quot;</td><td>&quot;Trousers Denim…</td></tr><tr><td>&quot;2020-02-01&quot;</td><td>&quot;9ee4797472de94…</td><td>788328003</td><td>0.035576</td><td>&quot;ACTIVE&quot;</td><td>23</td><td>&quot;Ladieswear&quot;</td><td>&quot;Knitwear&quot;</td></tr><tr><td>&quot;2018-12-19&quot;</td><td>&quot;e22e3b44689348…</td><td>641008016</td><td>0.011847</td><td>&quot;ACTIVE&quot;</td><td>34</td><td>&quot;Baby/Children&quot;</td><td>&quot;Dresses/Skirts…</td></tr></tbody></table></div>"
      ],
      "text/plain": [
       "shape: (5, 8)\n",
       "┌────────────┬─────────────┬────────────┬──────────┬─────────────┬─────┬─────────────┬─────────────┐\n",
       "│ t_dat      ┆ customer_id ┆ article_id ┆ price    ┆ club_member ┆ age ┆ index_group ┆ garment_gro │\n",
       "│ ---        ┆ ---         ┆ ---        ┆ ---      ┆ _status     ┆ --- ┆ _name       ┆ up_name     │\n",
       "│ str        ┆ str         ┆ i64        ┆ f64      ┆ ---         ┆ i64 ┆ ---         ┆ ---         │\n",
       "│            ┆             ┆            ┆          ┆ str         ┆     ┆ str         ┆ str         │\n",
       "╞════════════╪═════════════╪════════════╪══════════╪═════════════╪═════╪═════════════╪═════════════╡\n",
       "│ 2019-10-23 ┆ a575ce13ded ┆ 759847005  ┆ 0.027441 ┆ ACTIVE      ┆ 29  ┆ Ladieswear  ┆ Jersey      │\n",
       "│            ┆ 7fb49e96433 ┆            ┆          ┆             ┆     ┆             ┆ Fancy       │\n",
       "│            ┆ 4edf1abcea… ┆            ┆          ┆             ┆     ┆             ┆             │\n",
       "│ 2020-04-22 ┆ 4e6d535d689 ┆ 750424009  ┆ 0.042356 ┆ ACTIVE      ┆ 54  ┆ Ladieswear  ┆ Trousers    │\n",
       "│            ┆ fcd39497f7f ┆            ┆          ┆             ┆     ┆             ┆             │\n",
       "│            ┆ 32514aba77… ┆            ┆          ┆             ┆     ┆             ┆             │\n",
       "│ 2019-03-26 ┆ 7c698781597 ┆ 732842002  ┆ 0.06778  ┆ ACTIVE      ┆ 28  ┆ Divided     ┆ Trousers    │\n",
       "│            ┆ 861f91624d2 ┆            ┆          ┆             ┆     ┆             ┆ Denim       │\n",
       "│            ┆ c65b8305f5… ┆            ┆          ┆             ┆     ┆             ┆             │\n",
       "│ 2020-02-01 ┆ 9ee4797472d ┆ 788328003  ┆ 0.035576 ┆ ACTIVE      ┆ 23  ┆ Ladieswear  ┆ Knitwear    │\n",
       "│            ┆ e94bb12ec8f ┆            ┆          ┆             ┆     ┆             ┆             │\n",
       "│            ┆ 2362fd40df… ┆            ┆          ┆             ┆     ┆             ┆             │\n",
       "│ 2018-12-19 ┆ e22e3b44689 ┆ 641008016  ┆ 0.011847 ┆ ACTIVE      ┆ 34  ┆ Baby/Childr ┆ Dresses/Ski │\n",
       "│            ┆ 34835700d6b ┆            ┆          ┆             ┆     ┆ en          ┆ rts girls   │\n",
       "│            ┆ 0cbdffaacc… ┆            ┆          ┆             ┆     ┆             ┆             │\n",
       "└────────────┴─────────────┴────────────┴──────────┴─────────────┴─────┴─────────────┴─────────────┘"
      ]
     },
     "execution_count": 170,
     "metadata": {},
     "output_type": "execute_result"
    }
   ],
   "source": [
    "query.sample(5)"
   ]
  },
  {
   "cell_type": "markdown",
   "id": "8b225975-5a72-43bc-a124-a4eda7e2a64a",
   "metadata": {},
   "source": [
    "## Retrieval Model"
   ]
  },
  {
   "cell_type": "code",
   "execution_count": 173,
   "id": "f8865648-f177-497b-87c0-9de512b2be7e",
   "metadata": {},
   "outputs": [],
   "source": [
    "all_customer_ids = customers[\"customer_id\"].unique().to_list()"
   ]
  },
  {
   "cell_type": "code",
   "execution_count": 174,
   "id": "b1145212-abf6-432f-b758-4093bef1f9de",
   "metadata": {},
   "outputs": [],
   "source": [
    "from retrieval import QueryTower, ItemTower\n",
    "\n",
    "query_model = QueryTower(all_customer_ids)"
   ]
  },
  {
   "cell_type": "code",
   "execution_count": 175,
   "id": "2ff07c58-738c-46f0-94e7-7bf7a64d0bd7",
   "metadata": {},
   "outputs": [],
   "source": [
    "query_sample = query.sample(100)\n",
    "\n",
    "query_customer_ids = query_sample[\"customer_id\"]\n",
    "query_ages = torch.tensor(query_sample[\"age\"].to_list(), dtype=torch.float)"
   ]
  },
  {
   "cell_type": "code",
   "execution_count": 176,
   "id": "36462898-5d02-4710-a5e1-bd55106b1800",
   "metadata": {
    "scrolled": true
   },
   "outputs": [
    {
     "data": {
      "text/plain": [
       "tensor([[-0.5613,  0.2989,  0.6827,  ..., -1.5160,  0.6059, -0.0585],\n",
       "        [ 1.3982,  0.3761, -0.6977,  ..., -0.8727,  0.5480, -0.3728],\n",
       "        [-0.2185, -0.7900, -0.0162,  ..., -0.6052,  0.0153,  0.5145],\n",
       "        ...,\n",
       "        [ 0.4666, -0.0780,  0.1500,  ..., -0.1500, -0.1304, -0.1255],\n",
       "        [-0.9520, -0.4970,  0.3099,  ..., -0.0451,  0.2399,  0.1738],\n",
       "        [-0.5519, -0.2644,  0.3391,  ...,  0.5079, -0.8182, -1.2151]],\n",
       "       grad_fn=<AddmmBackward0>)"
      ]
     },
     "execution_count": 176,
     "metadata": {},
     "output_type": "execute_result"
    }
   ],
   "source": [
    "query_model(customer_ids, ages)"
   ]
  },
  {
   "cell_type": "code",
   "execution_count": null,
   "id": "7444333c-05bd-4aa8-a7df-370bdb38f991",
   "metadata": {},
   "outputs": [],
   "source": []
  },
  {
   "cell_type": "code",
   "execution_count": null,
   "id": "e1360313-bc1f-4302-84ab-ebfb8bb6774b",
   "metadata": {},
   "outputs": [],
   "source": []
  },
  {
   "cell_type": "code",
   "execution_count": null,
   "id": "62f08d6f-6aa4-434d-8dff-4a304a6153b6",
   "metadata": {},
   "outputs": [],
   "source": []
  }
 ],
 "metadata": {
  "kernelspec": {
   "display_name": "Python 3 (ipykernel)",
   "language": "python",
   "name": "python3"
  },
  "language_info": {
   "codemirror_mode": {
    "name": "ipython",
    "version": 3
   },
   "file_extension": ".py",
   "mimetype": "text/x-python",
   "name": "python",
   "nbconvert_exporter": "python",
   "pygments_lexer": "ipython3",
   "version": "3.11.6"
  }
 },
 "nbformat": 4,
 "nbformat_minor": 5
}
