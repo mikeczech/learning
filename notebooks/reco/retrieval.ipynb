{
 "cells": [
  {
   "cell_type": "code",
   "execution_count": 1,
   "id": "c972e1b2-4c08-4fdf-8de8-d986116d8776",
   "metadata": {},
   "outputs": [],
   "source": [
    "%load_ext autoreload\n",
    "%autoreload 2"
   ]
  },
  {
   "cell_type": "code",
   "execution_count": 16,
   "id": "d38144d0-4031-419f-8ef9-e41cdbeb11ab",
   "metadata": {},
   "outputs": [],
   "source": [
    "import polars as pl\n",
    "from polars import col\n",
    "import torch"
   ]
  },
  {
   "cell_type": "markdown",
   "id": "8ca762f2-2ccd-4d00-a776-e8ec97351ee8",
   "metadata": {},
   "source": [
    "## Load and Process Data"
   ]
  },
  {
   "cell_type": "code",
   "execution_count": 3,
   "id": "ec7a093e-88f3-443e-aca0-5064dfc7e7fb",
   "metadata": {},
   "outputs": [],
   "source": [
    "articles = pl.read_csv(\"data/articles.csv\", columns=[\"article_id\", \"garment_group_name\", \"index_group_name\"])\n",
    "customers = pl.read_csv(\"data/customers.csv\", columns=[\"customer_id\", \"age\", \"club_member_status\"]).filter(col(\"age\").is_not_null())\n",
    "transactions = pl.read_csv(\"data/transactions_train.csv\", columns=[\"customer_id\", \"article_id\", \"t_dat\", \"price\"])"
   ]
  },
  {
   "cell_type": "code",
   "execution_count": 4,
   "id": "16d8c664-fb30-4f74-8928-3c5eb819690e",
   "metadata": {},
   "outputs": [
    {
     "data": {
      "text/plain": [
       "((105542, 3), (1356119, 3), (31788324, 4))"
      ]
     },
     "execution_count": 4,
     "metadata": {},
     "output_type": "execute_result"
    }
   ],
   "source": [
    "articles.shape, customers.shape, transactions.shape"
   ]
  },
  {
   "cell_type": "markdown",
   "id": "90fb6039-26bb-4b65-beed-c0fc056d979b",
   "metadata": {},
   "source": [
    "### Articles"
   ]
  },
  {
   "cell_type": "code",
   "execution_count": 5,
   "id": "ce6933fe-78f2-44a0-b25c-7fd817b16118",
   "metadata": {},
   "outputs": [
    {
     "data": {
      "text/html": [
       "<div><style>\n",
       ".dataframe > thead > tr,\n",
       ".dataframe > tbody > tr {\n",
       "  text-align: right;\n",
       "  white-space: pre-wrap;\n",
       "}\n",
       "</style>\n",
       "<small>shape: (1, 3)</small><table border=\"1\" class=\"dataframe\"><thead><tr><th>article_id</th><th>index_group_name</th><th>garment_group_name</th></tr><tr><td>i64</td><td>str</td><td>str</td></tr></thead><tbody><tr><td>108775015</td><td>&quot;Ladieswear&quot;</td><td>&quot;Jersey Basic&quot;</td></tr></tbody></table></div>"
      ],
      "text/plain": [
       "shape: (1, 3)\n",
       "┌────────────┬──────────────────┬────────────────────┐\n",
       "│ article_id ┆ index_group_name ┆ garment_group_name │\n",
       "│ ---        ┆ ---              ┆ ---                │\n",
       "│ i64        ┆ str              ┆ str                │\n",
       "╞════════════╪══════════════════╪════════════════════╡\n",
       "│ 108775015  ┆ Ladieswear       ┆ Jersey Basic       │\n",
       "└────────────┴──────────────────┴────────────────────┘"
      ]
     },
     "execution_count": 5,
     "metadata": {},
     "output_type": "execute_result"
    }
   ],
   "source": [
    "articles.head(1)"
   ]
  },
  {
   "cell_type": "code",
   "execution_count": 6,
   "id": "ed5377b6-c63f-4672-983e-d1e7a3a53dda",
   "metadata": {
    "scrolled": true
   },
   "outputs": [
    {
     "data": {
      "text/html": [
       "<div><style>\n",
       ".dataframe > thead > tr,\n",
       ".dataframe > tbody > tr {\n",
       "  text-align: right;\n",
       "  white-space: pre-wrap;\n",
       "}\n",
       "</style>\n",
       "<small>shape: (1, 3)</small><table border=\"1\" class=\"dataframe\"><thead><tr><th>article_id</th><th>garment_group_name</th><th>index_group_name</th></tr><tr><td>u32</td><td>u32</td><td>u32</td></tr></thead><tbody><tr><td>105542</td><td>21</td><td>5</td></tr></tbody></table></div>"
      ],
      "text/plain": [
       "shape: (1, 3)\n",
       "┌────────────┬────────────────────┬──────────────────┐\n",
       "│ article_id ┆ garment_group_name ┆ index_group_name │\n",
       "│ ---        ┆ ---                ┆ ---              │\n",
       "│ u32        ┆ u32                ┆ u32              │\n",
       "╞════════════╪════════════════════╪══════════════════╡\n",
       "│ 105542     ┆ 21                 ┆ 5                │\n",
       "└────────────┴────────────────────┴──────────────────┘"
      ]
     },
     "execution_count": 6,
     "metadata": {},
     "output_type": "execute_result"
    }
   ],
   "source": [
    "articles.select([\n",
    "    col(\"article_id\").n_unique(),\n",
    "    col(\"garment_group_name\").n_unique(),\n",
    "    col(\"index_group_name\").n_unique(),\n",
    "])"
   ]
  },
  {
   "cell_type": "markdown",
   "id": "edd377cb-03e7-4acd-9bec-afef30262471",
   "metadata": {},
   "source": [
    "### Customers"
   ]
  },
  {
   "cell_type": "code",
   "execution_count": 7,
   "id": "9cd20245-f5eb-4412-9b7d-df776613bdf4",
   "metadata": {},
   "outputs": [
    {
     "data": {
      "text/html": [
       "<div><style>\n",
       ".dataframe > thead > tr,\n",
       ".dataframe > tbody > tr {\n",
       "  text-align: right;\n",
       "  white-space: pre-wrap;\n",
       "}\n",
       "</style>\n",
       "<small>shape: (1, 3)</small><table border=\"1\" class=\"dataframe\"><thead><tr><th>customer_id</th><th>club_member_status</th><th>age</th></tr><tr><td>str</td><td>str</td><td>i64</td></tr></thead><tbody><tr><td>&quot;00000dbacae5ab…</td><td>&quot;ACTIVE&quot;</td><td>49</td></tr></tbody></table></div>"
      ],
      "text/plain": [
       "shape: (1, 3)\n",
       "┌───────────────────────────────────┬────────────────────┬─────┐\n",
       "│ customer_id                       ┆ club_member_status ┆ age │\n",
       "│ ---                               ┆ ---                ┆ --- │\n",
       "│ str                               ┆ str                ┆ i64 │\n",
       "╞═══════════════════════════════════╪════════════════════╪═════╡\n",
       "│ 00000dbacae5abe5e23885899a1fa442… ┆ ACTIVE             ┆ 49  │\n",
       "└───────────────────────────────────┴────────────────────┴─────┘"
      ]
     },
     "execution_count": 7,
     "metadata": {},
     "output_type": "execute_result"
    }
   ],
   "source": [
    "customers.head(1)"
   ]
  },
  {
   "cell_type": "code",
   "execution_count": 8,
   "id": "c3ae7378-308e-40a3-88e0-6be5ffe42a73",
   "metadata": {},
   "outputs": [
    {
     "data": {
      "text/html": [
       "<div><style>\n",
       ".dataframe > thead > tr,\n",
       ".dataframe > tbody > tr {\n",
       "  text-align: right;\n",
       "  white-space: pre-wrap;\n",
       "}\n",
       "</style>\n",
       "<small>shape: (1, 3)</small><table border=\"1\" class=\"dataframe\"><thead><tr><th>customer_id</th><th>club_member_status</th><th>age</th></tr><tr><td>u32</td><td>u32</td><td>u32</td></tr></thead><tbody><tr><td>1356119</td><td>4</td><td>84</td></tr></tbody></table></div>"
      ],
      "text/plain": [
       "shape: (1, 3)\n",
       "┌─────────────┬────────────────────┬─────┐\n",
       "│ customer_id ┆ club_member_status ┆ age │\n",
       "│ ---         ┆ ---                ┆ --- │\n",
       "│ u32         ┆ u32                ┆ u32 │\n",
       "╞═════════════╪════════════════════╪═════╡\n",
       "│ 1356119     ┆ 4                  ┆ 84  │\n",
       "└─────────────┴────────────────────┴─────┘"
      ]
     },
     "execution_count": 8,
     "metadata": {},
     "output_type": "execute_result"
    }
   ],
   "source": [
    "customers.select([\n",
    "    col(\"customer_id\").n_unique(),\n",
    "    col(\"club_member_status\").n_unique(),\n",
    "    col(\"age\").n_unique(),\n",
    "])"
   ]
  },
  {
   "cell_type": "markdown",
   "id": "e8eaf732-fbf6-43bd-9e68-a19460b9526e",
   "metadata": {},
   "source": [
    "### Transactions"
   ]
  },
  {
   "cell_type": "code",
   "execution_count": 9,
   "id": "4cfedaef-4c01-4c9b-955c-084d9ef8090d",
   "metadata": {},
   "outputs": [
    {
     "data": {
      "text/html": [
       "<div><style>\n",
       ".dataframe > thead > tr,\n",
       ".dataframe > tbody > tr {\n",
       "  text-align: right;\n",
       "  white-space: pre-wrap;\n",
       "}\n",
       "</style>\n",
       "<small>shape: (1, 4)</small><table border=\"1\" class=\"dataframe\"><thead><tr><th>t_dat</th><th>customer_id</th><th>article_id</th><th>price</th></tr><tr><td>str</td><td>str</td><td>i64</td><td>f64</td></tr></thead><tbody><tr><td>&quot;2018-09-20&quot;</td><td>&quot;000058a12d5b43…</td><td>663713001</td><td>0.050831</td></tr></tbody></table></div>"
      ],
      "text/plain": [
       "shape: (1, 4)\n",
       "┌────────────┬───────────────────────────────────┬────────────┬──────────┐\n",
       "│ t_dat      ┆ customer_id                       ┆ article_id ┆ price    │\n",
       "│ ---        ┆ ---                               ┆ ---        ┆ ---      │\n",
       "│ str        ┆ str                               ┆ i64        ┆ f64      │\n",
       "╞════════════╪═══════════════════════════════════╪════════════╪══════════╡\n",
       "│ 2018-09-20 ┆ 000058a12d5b43e67d225668fa1f8d61… ┆ 663713001  ┆ 0.050831 │\n",
       "└────────────┴───────────────────────────────────┴────────────┴──────────┘"
      ]
     },
     "execution_count": 9,
     "metadata": {},
     "output_type": "execute_result"
    }
   ],
   "source": [
    "transactions.head(1)"
   ]
  },
  {
   "cell_type": "code",
   "execution_count": 10,
   "id": "d98bc377-8c07-4f79-abfa-941b5324bc30",
   "metadata": {},
   "outputs": [
    {
     "data": {
      "text/html": [
       "<div><style>\n",
       ".dataframe > thead > tr,\n",
       ".dataframe > tbody > tr {\n",
       "  text-align: right;\n",
       "  white-space: pre-wrap;\n",
       "}\n",
       "</style>\n",
       "<small>shape: (1, 4)</small><table border=\"1\" class=\"dataframe\"><thead><tr><th>t_dat</th><th>customer_id</th><th>article_id</th><th>price</th></tr><tr><td>u32</td><td>u32</td><td>u32</td><td>u32</td></tr></thead><tbody><tr><td>734</td><td>1362281</td><td>104547</td><td>9857</td></tr></tbody></table></div>"
      ],
      "text/plain": [
       "shape: (1, 4)\n",
       "┌───────┬─────────────┬────────────┬───────┐\n",
       "│ t_dat ┆ customer_id ┆ article_id ┆ price │\n",
       "│ ---   ┆ ---         ┆ ---        ┆ ---   │\n",
       "│ u32   ┆ u32         ┆ u32        ┆ u32   │\n",
       "╞═══════╪═════════════╪════════════╪═══════╡\n",
       "│ 734   ┆ 1362281     ┆ 104547     ┆ 9857  │\n",
       "└───────┴─────────────┴────────────┴───────┘"
      ]
     },
     "execution_count": 10,
     "metadata": {},
     "output_type": "execute_result"
    }
   ],
   "source": [
    "transactions.select([\n",
    "    col(\"t_dat\").n_unique(),\n",
    "    col(\"customer_id\").n_unique(),\n",
    "    col(\"article_id\").n_unique(),\n",
    "    col(\"price\").n_unique()\n",
    "])"
   ]
  },
  {
   "cell_type": "markdown",
   "id": "fea12a4e-3e4d-471e-b4db-647211641a81",
   "metadata": {},
   "source": [
    "### Create Queries"
   ]
  },
  {
   "cell_type": "code",
   "execution_count": 11,
   "id": "fb48c75d-531e-446a-937b-8b9bb89272e3",
   "metadata": {},
   "outputs": [
    {
     "data": {
      "text/plain": [
       "(31648066, 8)"
      ]
     },
     "execution_count": 11,
     "metadata": {},
     "output_type": "execute_result"
    }
   ],
   "source": [
    "query = transactions.join(customers, on=\"customer_id\", how=\"inner\").join(articles, on=\"article_id\", how=\"inner\")\n",
    "query.shape"
   ]
  },
  {
   "cell_type": "code",
   "execution_count": 12,
   "id": "df74b8d1-e105-4a61-bf20-bf740d318933",
   "metadata": {
    "scrolled": true
   },
   "outputs": [
    {
     "data": {
      "text/html": [
       "<div><style>\n",
       ".dataframe > thead > tr,\n",
       ".dataframe > tbody > tr {\n",
       "  text-align: right;\n",
       "  white-space: pre-wrap;\n",
       "}\n",
       "</style>\n",
       "<small>shape: (5, 8)</small><table border=\"1\" class=\"dataframe\"><thead><tr><th>t_dat</th><th>customer_id</th><th>article_id</th><th>price</th><th>club_member_status</th><th>age</th><th>index_group_name</th><th>garment_group_name</th></tr><tr><td>str</td><td>str</td><td>i64</td><td>f64</td><td>str</td><td>i64</td><td>str</td><td>str</td></tr></thead><tbody><tr><td>&quot;2020-04-18&quot;</td><td>&quot;229010662b2cf3…</td><td>612800018</td><td>0.033017</td><td>&quot;ACTIVE&quot;</td><td>56</td><td>&quot;Ladieswear&quot;</td><td>&quot;Blouses&quot;</td></tr><tr><td>&quot;2019-08-08&quot;</td><td>&quot;430ab7dff6da7a…</td><td>694119001</td><td>0.06778</td><td>&quot;ACTIVE&quot;</td><td>27</td><td>&quot;Menswear&quot;</td><td>&quot;Outdoor&quot;</td></tr><tr><td>&quot;2020-07-27&quot;</td><td>&quot;1585f1b9e407e6…</td><td>717490010</td><td>0.008458</td><td>&quot;PRE-CREATE&quot;</td><td>33</td><td>&quot;Divided&quot;</td><td>&quot;Jersey Basic&quot;</td></tr><tr><td>&quot;2018-11-07&quot;</td><td>&quot;299a10a292c3a6…</td><td>399223025</td><td>0.028797</td><td>&quot;ACTIVE&quot;</td><td>28</td><td>&quot;Divided&quot;</td><td>&quot;Trousers Denim…</td></tr><tr><td>&quot;2020-04-03&quot;</td><td>&quot;60c70dc4d2d0ab…</td><td>887770002</td><td>0.016932</td><td>&quot;ACTIVE&quot;</td><td>47</td><td>&quot;Ladieswear&quot;</td><td>&quot;Blouses&quot;</td></tr></tbody></table></div>"
      ],
      "text/plain": [
       "shape: (5, 8)\n",
       "┌────────────┬─────────────┬────────────┬──────────┬─────────────┬─────┬─────────────┬─────────────┐\n",
       "│ t_dat      ┆ customer_id ┆ article_id ┆ price    ┆ club_member ┆ age ┆ index_group ┆ garment_gro │\n",
       "│ ---        ┆ ---         ┆ ---        ┆ ---      ┆ _status     ┆ --- ┆ _name       ┆ up_name     │\n",
       "│ str        ┆ str         ┆ i64        ┆ f64      ┆ ---         ┆ i64 ┆ ---         ┆ ---         │\n",
       "│            ┆             ┆            ┆          ┆ str         ┆     ┆ str         ┆ str         │\n",
       "╞════════════╪═════════════╪════════════╪══════════╪═════════════╪═════╪═════════════╪═════════════╡\n",
       "│ 2020-04-18 ┆ 229010662b2 ┆ 612800018  ┆ 0.033017 ┆ ACTIVE      ┆ 56  ┆ Ladieswear  ┆ Blouses     │\n",
       "│            ┆ cf361bb77c6 ┆            ┆          ┆             ┆     ┆             ┆             │\n",
       "│            ┆ 732aac0426… ┆            ┆          ┆             ┆     ┆             ┆             │\n",
       "│ 2019-08-08 ┆ 430ab7dff6d ┆ 694119001  ┆ 0.06778  ┆ ACTIVE      ┆ 27  ┆ Menswear    ┆ Outdoor     │\n",
       "│            ┆ a7a23332fc1 ┆            ┆          ┆             ┆     ┆             ┆             │\n",
       "│            ┆ 7ee33d2077… ┆            ┆          ┆             ┆     ┆             ┆             │\n",
       "│ 2020-07-27 ┆ 1585f1b9e40 ┆ 717490010  ┆ 0.008458 ┆ PRE-CREATE  ┆ 33  ┆ Divided     ┆ Jersey      │\n",
       "│            ┆ 7e6e267f58b ┆            ┆          ┆             ┆     ┆             ┆ Basic       │\n",
       "│            ┆ 2c6041a933… ┆            ┆          ┆             ┆     ┆             ┆             │\n",
       "│ 2018-11-07 ┆ 299a10a292c ┆ 399223025  ┆ 0.028797 ┆ ACTIVE      ┆ 28  ┆ Divided     ┆ Trousers    │\n",
       "│            ┆ 3a63731b9ed ┆            ┆          ┆             ┆     ┆             ┆ Denim       │\n",
       "│            ┆ 203ea4e7d3… ┆            ┆          ┆             ┆     ┆             ┆             │\n",
       "│ 2020-04-03 ┆ 60c70dc4d2d ┆ 887770002  ┆ 0.016932 ┆ ACTIVE      ┆ 47  ┆ Ladieswear  ┆ Blouses     │\n",
       "│            ┆ 0ab3a3a3c34 ┆            ┆          ┆             ┆     ┆             ┆             │\n",
       "│            ┆ 754f1da520… ┆            ┆          ┆             ┆     ┆             ┆             │\n",
       "└────────────┴─────────────┴────────────┴──────────┴─────────────┴─────┴─────────────┴─────────────┘"
      ]
     },
     "execution_count": 12,
     "metadata": {},
     "output_type": "execute_result"
    }
   ],
   "source": [
    "query.sample(5)"
   ]
  },
  {
   "cell_type": "markdown",
   "id": "8b225975-5a72-43bc-a124-a4eda7e2a64a",
   "metadata": {},
   "source": [
    "## Retrieval Model"
   ]
  },
  {
   "cell_type": "code",
   "execution_count": 13,
   "id": "f8865648-f177-497b-87c0-9de512b2be7e",
   "metadata": {},
   "outputs": [],
   "source": [
    "all_customer_ids = customers[\"customer_id\"].unique().to_list()\n",
    "all_item_ids = articles[\"article_id\"].unique().to_list()\n",
    "all_index_groups = articles[\"index_group_name\"].unique().to_list()\n",
    "all_garment_groups = articles[\"garment_group_name\"].unique().to_list()"
   ]
  },
  {
   "cell_type": "code",
   "execution_count": 14,
   "id": "b1145212-abf6-432f-b758-4093bef1f9de",
   "metadata": {},
   "outputs": [],
   "source": [
    "from retrieval import QueryTower, ItemTower\n",
    "\n",
    "query_model = QueryTower(all_customer_ids)\n",
    "item_model = ItemTower(all_item_ids, all_index_groups, all_garment_groups)"
   ]
  },
  {
   "cell_type": "code",
   "execution_count": 17,
   "id": "2ff07c58-738c-46f0-94e7-7bf7a64d0bd7",
   "metadata": {},
   "outputs": [],
   "source": [
    "query_sample = query.sample(100)\n",
    "\n",
    "query_customer_ids = query_sample[\"customer_id\"]\n",
    "query_article_ids = query_sample[\"article_id\"]\n",
    "query_ages = torch.tensor(query_sample[\"age\"].to_list(), dtype=torch.float)\n",
    "query_index_groups = query_sample[\"index_group_name\"]\n",
    "query_garment_groups = query_sample[\"garment_group_name\"]"
   ]
  },
  {
   "cell_type": "code",
   "execution_count": 18,
   "id": "ca933ae1-1bb1-407b-8f6d-70a83c314794",
   "metadata": {},
   "outputs": [
    {
     "data": {
      "text/plain": [
       "torch.Size([100, 10])"
      ]
     },
     "execution_count": 18,
     "metadata": {},
     "output_type": "execute_result"
    }
   ],
   "source": [
    "query_emb = query_model(query_customer_ids, query_ages)\n",
    "query_emb.shape"
   ]
  },
  {
   "cell_type": "code",
   "execution_count": 19,
   "id": "7444333c-05bd-4aa8-a7df-370bdb38f991",
   "metadata": {},
   "outputs": [
    {
     "data": {
      "text/plain": [
       "torch.Size([100, 10])"
      ]
     },
     "execution_count": 19,
     "metadata": {},
     "output_type": "execute_result"
    }
   ],
   "source": [
    "item_emb = item_model(query_article_ids, query_index_groups, query_garment_groups)\n",
    "item_emb.shape"
   ]
  },
  {
   "cell_type": "code",
   "execution_count": 30,
   "id": "8934fdb4-33b9-4003-a278-7bed20335063",
   "metadata": {},
   "outputs": [
    {
     "data": {
      "text/plain": [
       "torch.Size([10, 100])"
      ]
     },
     "execution_count": 30,
     "metadata": {},
     "output_type": "execute_result"
    }
   ],
   "source": [
    "item_emb.t().shape"
   ]
  },
  {
   "cell_type": "code",
   "execution_count": 36,
   "id": "ac93be3b-a079-4466-b56f-d13318d3250f",
   "metadata": {},
   "outputs": [],
   "source": [
    "num_queries = query_emb.shape[0]\n",
    "num_items = item_emb.shape[0]"
   ]
  },
  {
   "cell_type": "code",
   "execution_count": 32,
   "id": "2c9968bc-2dc2-4d64-a79b-336e2b855984",
   "metadata": {},
   "outputs": [
    {
     "data": {
      "text/plain": [
       "tensor([[-0.0370, -0.8167, -0.0748,  ..., -0.3836,  0.5784,  0.4594],\n",
       "        [-0.5915, -1.7951, -0.1887,  ..., -0.7878,  0.2614,  0.3080],\n",
       "        [-0.2042, -0.2387, -0.4825,  ..., -0.0380,  0.6027,  0.3154],\n",
       "        ...,\n",
       "        [-0.0509, -0.1221, -0.0986,  ..., -0.1526, -0.0404, -0.0020],\n",
       "        [-0.2119, -0.8352, -0.1478,  ..., -0.1535,  0.2651,  0.4234],\n",
       "        [-0.3182, -0.9747, -0.2806,  ..., -0.2679,  0.3345,  0.4815]],\n",
       "       grad_fn=<MmBackward0>)"
      ]
     },
     "execution_count": 32,
     "metadata": {},
     "output_type": "execute_result"
    }
   ],
   "source": [
    "scores = torch.matmul(query_emb, item_emb.t())\n",
    "scores"
   ]
  },
  {
   "cell_type": "code",
   "execution_count": 47,
   "id": "fcc9f9ec-3203-4dca-ab91-98c88bdb54d8",
   "metadata": {},
   "outputs": [
    {
     "data": {
      "text/plain": [
       "torch.Size([100, 100])"
      ]
     },
     "execution_count": 47,
     "metadata": {},
     "output_type": "execute_result"
    }
   ],
   "source": [
    "scores.shape"
   ]
  },
  {
   "cell_type": "code",
   "execution_count": 38,
   "id": "1f913575-4182-44d0-b041-e6d9a0cb5928",
   "metadata": {},
   "outputs": [
    {
     "data": {
      "text/plain": [
       "tensor([[1., 0., 0.,  ..., 0., 0., 0.],\n",
       "        [0., 1., 0.,  ..., 0., 0., 0.],\n",
       "        [0., 0., 1.,  ..., 0., 0., 0.],\n",
       "        ...,\n",
       "        [0., 0., 0.,  ..., 1., 0., 0.],\n",
       "        [0., 0., 0.,  ..., 0., 1., 0.],\n",
       "        [0., 0., 0.,  ..., 0., 0., 1.]])"
      ]
     },
     "execution_count": 38,
     "metadata": {},
     "output_type": "execute_result"
    }
   ],
   "source": [
    "labels = torch.eye(num_queries, num_items)\n",
    "labels"
   ]
  },
  {
   "cell_type": "code",
   "execution_count": 46,
   "id": "386a4da1-c8de-40b3-a488-a7798c273e45",
   "metadata": {},
   "outputs": [
    {
     "data": {
      "text/plain": [
       "torch.Size([100, 100])"
      ]
     },
     "execution_count": 46,
     "metadata": {},
     "output_type": "execute_result"
    }
   ],
   "source": [
    "labels.shape"
   ]
  },
  {
   "cell_type": "code",
   "execution_count": 42,
   "id": "919d4f63-7174-46ee-ae0d-cd8d0b3607a7",
   "metadata": {},
   "outputs": [],
   "source": [
    "import torch.nn as nn\n",
    "\n",
    "t = torch.ones(1,1024,15)\n",
    "o = torch.randn(1,1024,15)"
   ]
  },
  {
   "cell_type": "code",
   "execution_count": 48,
   "id": "ebb5c790-a4da-46e9-8609-c1a97659d54b",
   "metadata": {},
   "outputs": [],
   "source": [
    "loss_fn = nn.CrossEntropyLoss()"
   ]
  },
  {
   "cell_type": "code",
   "execution_count": 49,
   "id": "247d4710-0257-4b02-a026-9436f355dd75",
   "metadata": {},
   "outputs": [
    {
     "data": {
      "text/plain": [
       "tensor(4.6964, grad_fn=<DivBackward1>)"
      ]
     },
     "execution_count": 49,
     "metadata": {},
     "output_type": "execute_result"
    }
   ],
   "source": [
    "loss_fn(scores, labels)"
   ]
  },
  {
   "cell_type": "code",
   "execution_count": 44,
   "id": "f356987a-a441-4f8a-8dc0-4a140b45712a",
   "metadata": {},
   "outputs": [
    {
     "data": {
      "text/plain": [
       "torch.Size([1, 1024, 15])"
      ]
     },
     "execution_count": 44,
     "metadata": {},
     "output_type": "execute_result"
    }
   ],
   "source": [
    "t.shape"
   ]
  },
  {
   "cell_type": "code",
   "execution_count": 45,
   "id": "495151cf-13e1-40e2-b1ab-ced8c60ad19a",
   "metadata": {},
   "outputs": [
    {
     "data": {
      "text/plain": [
       "torch.Size([1, 1024, 15])"
      ]
     },
     "execution_count": 45,
     "metadata": {},
     "output_type": "execute_result"
    }
   ],
   "source": [
    "o.shape"
   ]
  },
  {
   "cell_type": "code",
   "execution_count": 41,
   "id": "27ce6ed1-abb1-4178-839b-185ffb51fe34",
   "metadata": {},
   "outputs": [
    {
     "data": {
      "text/plain": [
       "tensor([ 0,  1,  2,  3,  4,  5,  6,  7,  8,  9, 10, 11, 12, 13, 14, 15, 16, 17,\n",
       "        18, 19, 20, 21, 22, 23, 24, 25, 26, 27, 28, 29, 30, 31, 32, 33, 34, 35,\n",
       "        36, 37, 38, 39, 40, 41, 42, 43, 44, 45, 46, 47, 48, 49, 50, 51, 52, 53,\n",
       "        54, 55, 56, 57, 58, 59, 60, 61, 62, 63, 64, 65, 66, 67, 68, 69, 70, 71,\n",
       "        72, 73, 74, 75, 76, 77, 78, 79, 80, 81, 82, 83, 84, 85, 86, 87, 88, 89,\n",
       "        90, 91, 92, 93, 94, 95, 96, 97, 98, 99])"
      ]
     },
     "execution_count": 41,
     "metadata": {},
     "output_type": "execute_result"
    }
   ],
   "source": [
    "torch.argmax(labels, dim=1)"
   ]
  },
  {
   "cell_type": "code",
   "execution_count": 53,
   "id": "dd12ed4b-808e-4d4f-a43b-b484697c9d7e",
   "metadata": {},
   "outputs": [
    {
     "data": {
      "text/plain": [
       "tensor([[-4.6404, -5.4200, -4.6782,  ..., -4.9870, -4.0250, -4.1440],\n",
       "        [-4.8047, -6.0083, -4.4020,  ..., -5.0010, -3.9519, -3.9053],\n",
       "        [-4.7517, -4.7862, -5.0300,  ..., -4.5854, -3.9448, -4.2321],\n",
       "        ...,\n",
       "        [-4.6033, -4.6745, -4.6510,  ..., -4.7050, -4.5928, -4.5544],\n",
       "        [-4.7564, -5.3798, -4.6924,  ..., -4.6981, -4.2794, -4.1212],\n",
       "        [-4.9530, -5.6095, -4.9154,  ..., -4.9027, -4.3003, -4.1533]],\n",
       "       grad_fn=<LogSoftmaxBackward0>)"
      ]
     },
     "execution_count": 53,
     "metadata": {},
     "output_type": "execute_result"
    }
   ],
   "source": [
    "nn.LogSoftmax(dim=1)(scores)"
   ]
  },
  {
   "cell_type": "code",
   "execution_count": 58,
   "id": "2cc7b0dc-7b87-429c-8805-3a4429808115",
   "metadata": {},
   "outputs": [],
   "source": [
    "from retrieval import TwoTowerModel"
   ]
  },
  {
   "cell_type": "code",
   "execution_count": 59,
   "id": "23015e02-f0e2-42c5-9160-90a11143ef13",
   "metadata": {},
   "outputs": [],
   "source": [
    "model = TwoTowerModel(query_model, item_model)"
   ]
  },
  {
   "cell_type": "code",
   "execution_count": 60,
   "id": "47d39a88-c7bf-465c-a3a0-cc0a13ce42cb",
   "metadata": {},
   "outputs": [
    {
     "data": {
      "text/plain": [
       "tensor(4.6964, grad_fn=<NllLossBackward0>)"
      ]
     },
     "execution_count": 60,
     "metadata": {},
     "output_type": "execute_result"
    }
   ],
   "source": [
    "model(query_customer_ids, query_ages, query_article_ids, query_index_groups, query_garment_groups)"
   ]
  },
  {
   "cell_type": "code",
   "execution_count": null,
   "id": "1abaf455-3bc1-4460-81ba-81dec1564963",
   "metadata": {},
   "outputs": [],
   "source": []
  }
 ],
 "metadata": {
  "kernelspec": {
   "display_name": "Python 3 (ipykernel)",
   "language": "python",
   "name": "python3"
  },
  "language_info": {
   "codemirror_mode": {
    "name": "ipython",
    "version": 3
   },
   "file_extension": ".py",
   "mimetype": "text/x-python",
   "name": "python",
   "nbconvert_exporter": "python",
   "pygments_lexer": "ipython3",
   "version": "3.11.6"
  }
 },
 "nbformat": 4,
 "nbformat_minor": 5
}
