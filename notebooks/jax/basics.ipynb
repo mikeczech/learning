{
 "cells": [
  {
   "cell_type": "code",
   "execution_count": 1,
   "id": "0d18f4ef-7d14-48c5-8dd5-d309531afca8",
   "metadata": {},
   "outputs": [],
   "source": [
    "import jax\n",
    "\n",
    "import jax.numpy as jnp"
   ]
  },
  {
   "cell_type": "code",
   "execution_count": 3,
   "id": "062b2e7d-2bed-4366-8815-fbf727117fe1",
   "metadata": {
    "scrolled": true
   },
   "outputs": [
    {
     "data": {
      "text/plain": [
       "Array([0, 1, 2, 3, 4, 5, 6, 7, 8, 9], dtype=int32)"
      ]
     },
     "execution_count": 3,
     "metadata": {},
     "output_type": "execute_result"
    }
   ],
   "source": [
    "x = jnp.arange(10)\n",
    "x"
   ]
  },
  {
   "cell_type": "code",
   "execution_count": 4,
   "id": "ae31a2a5-7f6e-4dcd-914f-a14a026f10a9",
   "metadata": {},
   "outputs": [],
   "source": [
    "long_vector = jnp.arange(int(1e7))"
   ]
  },
  {
   "cell_type": "code",
   "execution_count": 5,
   "id": "e380b383-47f6-4268-866a-93b3bf7f4690",
   "metadata": {},
   "outputs": [
    {
     "name": "stdout",
     "output_type": "stream",
     "text": [
      "3.71 ms ± 12.1 µs per loop (mean ± std. dev. of 7 runs, 100 loops each)\n"
     ]
    }
   ],
   "source": [
    "%timeit jnp.dot(long_vector, long_vector).block_until_ready()"
   ]
  },
  {
   "cell_type": "markdown",
   "id": "9220649a-19e9-46f5-89f4-55d06d4ef58c",
   "metadata": {},
   "source": [
    "## JAX transformation: grad"
   ]
  },
  {
   "cell_type": "code",
   "execution_count": 6,
   "id": "94ee288b-7810-47b7-a004-fb6a1009b2c7",
   "metadata": {},
   "outputs": [],
   "source": [
    "def sum_of_squares(x):\n",
    "    return jnp.sum(x**2)"
   ]
  },
  {
   "cell_type": "code",
   "execution_count": 8,
   "id": "3285f8b1-560a-43b1-a0b6-16fc60307eb8",
   "metadata": {},
   "outputs": [
    {
     "data": {
      "text/plain": [
       "Array(285, dtype=int32)"
      ]
     },
     "execution_count": 8,
     "metadata": {},
     "output_type": "execute_result"
    }
   ],
   "source": [
    "sum_of_squares(x)"
   ]
  },
  {
   "cell_type": "code",
   "execution_count": 11,
   "id": "5b53e477-26c7-4c10-b1fe-be0a6739593f",
   "metadata": {},
   "outputs": [],
   "source": [
    "sum_of_squares_dx = jax.grad(sum_of_squares)"
   ]
  },
  {
   "cell_type": "code",
   "execution_count": 12,
   "id": "ac057e7e-3e24-49f6-83e1-cebba2dfde7f",
   "metadata": {},
   "outputs": [],
   "source": [
    "x = jnp.asarray([1.0, 2.0, 3.0, 4.0])"
   ]
  },
  {
   "cell_type": "code",
   "execution_count": 13,
   "id": "039b79ce-bd4c-419c-b9b4-6492ee036dfb",
   "metadata": {},
   "outputs": [
    {
     "name": "stdout",
     "output_type": "stream",
     "text": [
      "30.0\n"
     ]
    }
   ],
   "source": [
    "print(sum_of_squares(x))"
   ]
  },
  {
   "cell_type": "code",
   "execution_count": 14,
   "id": "b1408dd7-27db-4bd2-93ef-f3762e380746",
   "metadata": {},
   "outputs": [
    {
     "name": "stdout",
     "output_type": "stream",
     "text": [
      "[2. 4. 6. 8.]\n"
     ]
    }
   ],
   "source": [
    "print(sum_of_squares_dx(x))"
   ]
  },
  {
   "cell_type": "code",
   "execution_count": 15,
   "id": "7b82b403-2685-41e8-b43e-044a7d3b7cf1",
   "metadata": {},
   "outputs": [],
   "source": [
    "def sum_squared_error(x, y):\n",
    "    return jnp.sum((x-y)**2)\n",
    "\n",
    "sum_squared_error_dx = jax.grad(sum_squared_error)"
   ]
  },
  {
   "cell_type": "code",
   "execution_count": 16,
   "id": "44f16534-8506-49d5-a3a1-d1d0715d8225",
   "metadata": {},
   "outputs": [
    {
     "data": {
      "text/plain": [
       "Array([-0.20000005, -0.19999981, -0.19999981, -0.19999981], dtype=float32)"
      ]
     },
     "execution_count": 16,
     "metadata": {},
     "output_type": "execute_result"
    }
   ],
   "source": [
    "y = jnp.asarray([1.1, 2.1, 3.1, 4.1])\n",
    "\n",
    "sum_squared_error_dx(x, y)"
   ]
  },
  {
   "cell_type": "code",
   "execution_count": 19,
   "id": "63d955bc-5f5e-4f30-9c99-d77bce7584d7",
   "metadata": {},
   "outputs": [
    {
     "data": {
      "text/plain": [
       "(Array([-0.20000005, -0.19999981, -0.19999981, -0.19999981], dtype=float32),\n",
       " Array([0.20000005, 0.19999981, 0.19999981, 0.19999981], dtype=float32))"
      ]
     },
     "execution_count": 19,
     "metadata": {},
     "output_type": "execute_result"
    }
   ],
   "source": [
    "jax.grad(sum_squared_error, argnums=(0, 1))(x, y)"
   ]
  },
  {
   "cell_type": "markdown",
   "id": "1fa4af7e-ac89-4862-bc6e-8047ddc4261a",
   "metadata": {},
   "source": [
    "## Value and Grad"
   ]
  },
  {
   "cell_type": "code",
   "execution_count": 20,
   "id": "c2a4fbe4-f58e-46cb-8e99-ae548f874c62",
   "metadata": {},
   "outputs": [
    {
     "data": {
      "text/plain": [
       "(Array(0.03999995, dtype=float32),\n",
       " Array([-0.20000005, -0.19999981, -0.19999981, -0.19999981], dtype=float32))"
      ]
     },
     "execution_count": 20,
     "metadata": {},
     "output_type": "execute_result"
    }
   ],
   "source": [
    "jax.value_and_grad(sum_squared_error)(x, y)"
   ]
  },
  {
   "cell_type": "markdown",
   "id": "7542e0f7-0244-4568-ba47-1d57bc7ef231",
   "metadata": {},
   "source": [
    "## Immutability"
   ]
  },
  {
   "cell_type": "code",
   "execution_count": 23,
   "id": "655a0c3f-e9da-4ba2-99c7-4e068e3d467f",
   "metadata": {},
   "outputs": [
    {
     "ename": "TypeError",
     "evalue": "'<class 'jaxlib.xla_extension.ArrayImpl'>' object does not support item assignment. JAX arrays are immutable. Instead of ``x[idx] = y``, use ``x = x.at[idx].set(y)`` or another .at[] method: https://jax.readthedocs.io/en/latest/_autosummary/jax.numpy.ndarray.at.html",
     "output_type": "error",
     "traceback": [
      "\u001b[0;31m---------------------------------------------------------------------------\u001b[0m",
      "\u001b[0;31mTypeError\u001b[0m                                 Traceback (most recent call last)",
      "Cell \u001b[0;32mIn[23], line 5\u001b[0m\n\u001b[1;32m      2\u001b[0m   x[\u001b[38;5;241m0\u001b[39m] \u001b[38;5;241m=\u001b[39m \u001b[38;5;241m123\u001b[39m\n\u001b[1;32m      3\u001b[0m   \u001b[38;5;28;01mreturn\u001b[39;00m \u001b[38;5;28;01mNone\u001b[39;00m\n\u001b[0;32m----> 5\u001b[0m \u001b[43min_place_modify\u001b[49m\u001b[43m(\u001b[49m\u001b[43mx\u001b[49m\u001b[43m)\u001b[49m\n\u001b[1;32m      6\u001b[0m x\n",
      "Cell \u001b[0;32mIn[23], line 2\u001b[0m, in \u001b[0;36min_place_modify\u001b[0;34m(x)\u001b[0m\n\u001b[1;32m      1\u001b[0m \u001b[38;5;28;01mdef\u001b[39;00m \u001b[38;5;21min_place_modify\u001b[39m(x):\n\u001b[0;32m----> 2\u001b[0m   \u001b[43mx\u001b[49m\u001b[43m[\u001b[49m\u001b[38;5;241;43m0\u001b[39;49m\u001b[43m]\u001b[49m \u001b[38;5;241m=\u001b[39m \u001b[38;5;241m123\u001b[39m\n\u001b[1;32m      3\u001b[0m   \u001b[38;5;28;01mreturn\u001b[39;00m \u001b[38;5;28;01mNone\u001b[39;00m\n",
      "File \u001b[0;32m~/Library/Caches/pypoetry/virtualenvs/jklearn-iMfdDykq-py3.11/lib/python3.11/site-packages/jax/_src/numpy/array_methods.py:285\u001b[0m, in \u001b[0;36m_unimplemented_setitem\u001b[0;34m(self, i, x)\u001b[0m\n\u001b[1;32m    280\u001b[0m \u001b[38;5;28;01mdef\u001b[39;00m \u001b[38;5;21m_unimplemented_setitem\u001b[39m(\u001b[38;5;28mself\u001b[39m, i, x):\n\u001b[1;32m    281\u001b[0m   msg \u001b[38;5;241m=\u001b[39m (\u001b[38;5;124m\"\u001b[39m\u001b[38;5;124m'\u001b[39m\u001b[38;5;132;01m{}\u001b[39;00m\u001b[38;5;124m'\u001b[39m\u001b[38;5;124m object does not support item assignment. JAX arrays are \u001b[39m\u001b[38;5;124m\"\u001b[39m\n\u001b[1;32m    282\u001b[0m          \u001b[38;5;124m\"\u001b[39m\u001b[38;5;124mimmutable. Instead of ``x[idx] = y``, use ``x = x.at[idx].set(y)`` \u001b[39m\u001b[38;5;124m\"\u001b[39m\n\u001b[1;32m    283\u001b[0m          \u001b[38;5;124m\"\u001b[39m\u001b[38;5;124mor another .at[] method: \u001b[39m\u001b[38;5;124m\"\u001b[39m\n\u001b[1;32m    284\u001b[0m          \u001b[38;5;124m\"\u001b[39m\u001b[38;5;124mhttps://jax.readthedocs.io/en/latest/_autosummary/jax.numpy.ndarray.at.html\u001b[39m\u001b[38;5;124m\"\u001b[39m)\n\u001b[0;32m--> 285\u001b[0m   \u001b[38;5;28;01mraise\u001b[39;00m \u001b[38;5;167;01mTypeError\u001b[39;00m(msg\u001b[38;5;241m.\u001b[39mformat(\u001b[38;5;28mtype\u001b[39m(\u001b[38;5;28mself\u001b[39m)))\n",
      "\u001b[0;31mTypeError\u001b[0m: '<class 'jaxlib.xla_extension.ArrayImpl'>' object does not support item assignment. JAX arrays are immutable. Instead of ``x[idx] = y``, use ``x = x.at[idx].set(y)`` or another .at[] method: https://jax.readthedocs.io/en/latest/_autosummary/jax.numpy.ndarray.at.html"
     ]
    }
   ],
   "source": [
    "def in_place_modify(x):\n",
    "  x[0] = 123\n",
    "  return None\n",
    "\n",
    "in_place_modify(x)\n",
    "x"
   ]
  },
  {
   "cell_type": "code",
   "execution_count": 24,
   "id": "9f7bfe61-da9b-44a3-9646-2ab814183960",
   "metadata": {},
   "outputs": [
    {
     "data": {
      "text/plain": [
       "Array([123,   2,   3], dtype=int32)"
      ]
     },
     "execution_count": 24,
     "metadata": {},
     "output_type": "execute_result"
    }
   ],
   "source": [
    "def jax_in_place_modify(x):\n",
    "  return x.at[0].set(123)\n",
    "\n",
    "y = jnp.array([1, 2, 3])\n",
    "jax_in_place_modify(y)"
   ]
  },
  {
   "cell_type": "markdown",
   "id": "9b096348-02ee-44e4-8954-d5ae2c753ffa",
   "metadata": {},
   "source": [
    "## First Training Loop"
   ]
  },
  {
   "cell_type": "code",
   "execution_count": 30,
   "id": "c3d9a012-9c7d-41fb-91c7-e4cdb0d22fd6",
   "metadata": {},
   "outputs": [],
   "source": [
    "import numpy as np\n",
    "import pandas as pd\n",
    "import matplotlib.pyplot as plt"
   ]
  },
  {
   "cell_type": "code",
   "execution_count": 33,
   "id": "ba9d61c3-4cbb-4c38-9988-458bffeddc82",
   "metadata": {},
   "outputs": [],
   "source": [
    "xs = np.random.normal(size=(1000,))"
   ]
  },
  {
   "cell_type": "code",
   "execution_count": 34,
   "id": "f469440d-73de-4282-b3ab-3871589181d6",
   "metadata": {},
   "outputs": [
    {
     "data": {
      "text/plain": [
       "<Axes: >"
      ]
     },
     "execution_count": 34,
     "metadata": {},
     "output_type": "execute_result"
    },
    {
     "data": {
      "image/png": "[encoded data removed]",
      "text/plain": [
       "<Figure size 640x480 with 1 Axes>"
      ]
     },
     "metadata": {},
     "output_type": "display_data"
    }
   ],
   "source": [
    "pd.Series(xs).hist()"
   ]
  },
  {
   "cell_type": "code",
   "execution_count": 35,
   "id": "a3b69aa6-7aa6-4164-9e7b-9020bc7722b9",
   "metadata": {},
   "outputs": [],
   "source": [
    "noise = np.random.normal(scale=0.1, size=(1000,))\n",
    "ys = xs * 3 - 1 + noise"
   ]
  },
  {
   "cell_type": "code",
   "execution_count": 36,
   "id": "fa73d2a6-7e56-4d08-8e73-5f1ec2c3ae35",
   "metadata": {},
   "outputs": [
    {
     "data": {
      "text/plain": [
       "<matplotlib.collections.PathCollection at 0x156f77ad0>"
      ]
     },
     "execution_count": 36,
     "metadata": {},
     "output_type": "execute_result"
    },
    {
     "data": {
      "image/png": "[encoded data removed]",
      "text/plain": [
       "<Figure size 640x480 with 1 Axes>"
      ]
     },
     "metadata": {},
     "output_type": "display_data"
    }
   ],
   "source": [
    "plt.scatter(xs, ys)"
   ]
  },
  {
   "cell_type": "code",
   "execution_count": 38,
   "id": "e326267b-bed5-4684-944d-639146928f94",
   "metadata": {},
   "outputs": [],
   "source": [
    "def model(theta, x):\n",
    "    w, b = theta\n",
    "    return w * x + b"
   ]
  },
  {
   "cell_type": "code",
   "execution_count": 41,
   "id": "34bcdb15-cf1b-4e7d-bb13-5060659f9b20",
   "metadata": {},
   "outputs": [],
   "source": [
    "def loss_fn(theta, x, y):\n",
    "    prediction = model(theta, x)\n",
    "    return jnp.mean((prediction - y)**2)"
   ]
  },
  {
   "cell_type": "code",
   "execution_count": 42,
   "id": "69a29bd3-23b7-470b-8fbd-a288543342d3",
   "metadata": {},
   "outputs": [],
   "source": [
    "@jax.jit\n",
    "def update(theta, x, y, lr=0.1):\n",
    "    return theta - lr * jax.grad(loss_fn)(theta, x, y)"
   ]
  },
  {
   "cell_type": "code",
   "execution_count": 43,
   "id": "12a18824-a4c8-4aed-aa5b-37d3f4306bf0",
   "metadata": {},
   "outputs": [],
   "source": [
    "theta = jnp.array([1., 1.])"
   ]
  },
  {
   "cell_type": "code",
   "execution_count": 44,
   "id": "7c5c912e-8bc5-48be-9b05-0abc62a3d31f",
   "metadata": {},
   "outputs": [],
   "source": [
    "for _ in range(1000):\n",
    "    theta = update(theta, xs, ys)"
   ]
  },
  {
   "cell_type": "code",
   "execution_count": 46,
   "id": "2ca233b8-0e37-41f5-ab89-b7bcfaf34a45",
   "metadata": {},
   "outputs": [
    {
     "data": {
      "text/plain": [
       "[<matplotlib.lines.Line2D at 0x155f78950>]"
      ]
     },
     "execution_count": 46,
     "metadata": {},
     "output_type": "execute_result"
    },
    {
     "data": {
      "image/png": "[encoded data removed]",
      "text/plain": [
       "<Figure size 640x480 with 1 Axes>"
      ]
     },
     "metadata": {},
     "output_type": "display_data"
    }
   ],
   "source": [
    "plt.scatter(xs, ys)\n",
    "plt.plot(xs, model(theta, xs))"
   ]
  },
  {
   "cell_type": "code",
   "execution_count": 47,
   "id": "accf7b68-c96b-4567-b61f-bb5c0eed926c",
   "metadata": {},
   "outputs": [
    {
     "name": "stdout",
     "output_type": "stream",
     "text": [
      "w: 2.99, b: -1.00\n"
     ]
    }
   ],
   "source": [
    "w, b = theta\n",
    "print(f\"w: {w:<.2f}, b: {b:<.2f}\")"
   ]
  },
  {
   "cell_type": "code",
   "execution_count": null,
   "id": "0be29c4b-570a-4cef-b194-c239212bb1bd",
   "metadata": {},
   "outputs": [],
   "source": []
  }
 ],
 "metadata": {
  "kernelspec": {
   "display_name": "Python 3 (ipykernel)",
   "language": "python",
   "name": "python3"
  },
  "language_info": {
   "codemirror_mode": {
    "name": "ipython",
    "version": 3
   },
   "file_extension": ".py",
   "mimetype": "text/x-python",
   "name": "python",
   "nbconvert_exporter": "python",
   "pygments_lexer": "ipython3",
   "version": "3.11.6"
  }
 },
 "nbformat": 4,
 "nbformat_minor": 5
}
