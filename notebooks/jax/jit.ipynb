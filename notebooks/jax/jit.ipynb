{
 "cells": [
  {
   "cell_type": "code",
   "execution_count": 1,
   "id": "9b7a27fb-b533-4f18-b642-1f4a0a5ed99b",
   "metadata": {},
   "outputs": [],
   "source": [
    "import jax\n",
    "import jax.numpy as jnp"
   ]
  },
  {
   "cell_type": "code",
   "execution_count": 2,
   "id": "944c8b5e-8896-47a9-bca3-5cc13d195943",
   "metadata": {},
   "outputs": [],
   "source": [
    "global_list = []\n",
    "\n",
    "def log2(x):\n",
    "    global_list.append(x)\n",
    "    ln_x = jnp.log(x)\n",
    "    ln_2 = jnp.log(2.0)\n",
    "    return ln_x / ln_2"
   ]
  },
  {
   "cell_type": "code",
   "execution_count": 4,
   "id": "f4fbb2f3-bfc5-4ac4-b12f-0340e321ef85",
   "metadata": {},
   "outputs": [
    {
     "data": {
      "text/plain": [
       "{ lambda ; a:f32[]. let\n",
       "    b:f32[] = log a\n",
       "    c:f32[] = log 2.0\n",
       "    d:f32[] = div b c\n",
       "  in (d,) }"
      ]
     },
     "execution_count": 4,
     "metadata": {},
     "output_type": "execute_result"
    }
   ],
   "source": [
    "jax.make_jaxpr(log2)(3.0)"
   ]
  },
  {
   "cell_type": "code",
   "execution_count": null,
   "id": "b80b3aa9-9169-4418-85ba-8ee746584ce6",
   "metadata": {},
   "outputs": [],
   "source": []
  }
 ],
 "metadata": {
  "kernelspec": {
   "display_name": "Python 3 (ipykernel)",
   "language": "python",
   "name": "python3"
  },
  "language_info": {
   "codemirror_mode": {
    "name": "ipython",
    "version": 3
   },
   "file_extension": ".py",
   "mimetype": "text/x-python",
   "name": "python",
   "nbconvert_exporter": "python",
   "pygments_lexer": "ipython3",
   "version": "3.11.6"
  }
 },
 "nbformat": 4,
 "nbformat_minor": 5
}
