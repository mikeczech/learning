{
 "cells": [
  {
   "cell_type": "code",
   "execution_count": 43,
   "id": "28d42c8b-5937-49ef-bd0e-424cceb40c2c",
   "metadata": {},
   "outputs": [],
   "source": [
    "import numpy as np\n",
    "\n",
    "from numpy.random import randint, rand\n",
    "from numpy.linalg import det"
   ]
  },
  {
   "cell_type": "markdown",
   "id": "2573b69c-798c-4bea-992a-5354c2c974f4",
   "metadata": {},
   "source": [
    "#### Task 1: Array Creation and Manipulation\n",
    "\n",
    "* Create a 2D NumPy array of shape (3,4) filled with random integers between 1 and 10.\n",
    "* Print the created array.\n",
    "* Then, calculate and print the sum of each column.\n",
    "* Finally, reshape this array into shape (2,6)."
   ]
  },
  {
   "cell_type": "code",
   "execution_count": 9,
   "id": "5184834f-b1d8-4469-9dea-e3a9539f1a06",
   "metadata": {},
   "outputs": [
    {
     "data": {
      "text/plain": [
       "array([[2, 4, 4, 5],\n",
       "       [8, 8, 9, 7],\n",
       "       [9, 5, 8, 1]])"
      ]
     },
     "execution_count": 9,
     "metadata": {},
     "output_type": "execute_result"
    }
   ],
   "source": [
    "arr = randint(1, 10, size=(3, 4))\n",
    "\n",
    "arr"
   ]
  },
  {
   "cell_type": "code",
   "execution_count": 16,
   "id": "84395718-a456-4d55-85ee-2a6631ed91a3",
   "metadata": {},
   "outputs": [
    {
     "data": {
      "text/plain": [
       "array([19, 17, 21, 13])"
      ]
     },
     "execution_count": 16,
     "metadata": {},
     "output_type": "execute_result"
    }
   ],
   "source": [
    "arr.sum(axis=0)"
   ]
  },
  {
   "cell_type": "code",
   "execution_count": 17,
   "id": "f33c402f-d862-49bc-98b5-6fa7ddd68622",
   "metadata": {},
   "outputs": [
    {
     "data": {
      "text/plain": [
       "array([[2, 4, 4, 5, 8, 8],\n",
       "       [9, 7, 9, 5, 8, 1]])"
      ]
     },
     "execution_count": 17,
     "metadata": {},
     "output_type": "execute_result"
    }
   ],
   "source": [
    "arr.reshape((2, 6))"
   ]
  },
  {
   "cell_type": "markdown",
   "id": "86ce9ab3-1712-4025-bf84-f5d6c2659651",
   "metadata": {},
   "source": [
    "#### Task 2: Indexing, Filtering, and Statistical Analysis\n",
    "\n",
    "* Generate a 1D NumPy array of 20 random integers between 1 and 100.\n",
    "* Print the original array.\n",
    "* Extract and print all elements that are greater than 50 from this array.\n",
    "* Calculate and print the mean of the array.\n",
    "* Find and print the position (index) of the minimum value in the array."
   ]
  },
  {
   "cell_type": "code",
   "execution_count": 18,
   "id": "4784d03b-ab99-4950-95c3-fc5838b3f3a9",
   "metadata": {},
   "outputs": [
    {
     "data": {
      "text/plain": [
       "array([36, 12, 66,  1, 72, 76,  9, 23, 69, 86, 94,  6, 81, 62, 45, 24, 56,\n",
       "       55, 56, 12])"
      ]
     },
     "execution_count": 18,
     "metadata": {},
     "output_type": "execute_result"
    }
   ],
   "source": [
    "arr = randint(1, 100, 20)\n",
    "arr"
   ]
  },
  {
   "cell_type": "code",
   "execution_count": 19,
   "id": "2d828bd6-19a1-40a5-bc25-8a5ac1d9496f",
   "metadata": {},
   "outputs": [
    {
     "data": {
      "text/plain": [
       "array([66, 72, 76, 69, 86, 94, 81, 62, 56, 55, 56])"
      ]
     },
     "execution_count": 19,
     "metadata": {},
     "output_type": "execute_result"
    }
   ],
   "source": [
    "arr[arr > 50]"
   ]
  },
  {
   "cell_type": "code",
   "execution_count": 20,
   "id": "0d2ce876-d8b6-4582-ae40-e364baf063dc",
   "metadata": {},
   "outputs": [
    {
     "data": {
      "text/plain": [
       "47.05"
      ]
     },
     "execution_count": 20,
     "metadata": {},
     "output_type": "execute_result"
    }
   ],
   "source": [
    "arr.mean()"
   ]
  },
  {
   "cell_type": "code",
   "execution_count": 21,
   "id": "3f380ca5-6eb4-484d-b4e2-35372ad85d6d",
   "metadata": {},
   "outputs": [
    {
     "data": {
      "text/plain": [
       "3"
      ]
     },
     "execution_count": 21,
     "metadata": {},
     "output_type": "execute_result"
    }
   ],
   "source": [
    "arr.argmin()"
   ]
  },
  {
   "cell_type": "markdown",
   "id": "4d49356d-c555-4d71-a256-78e0ba8a1ccb",
   "metadata": {},
   "source": [
    "#### Task 3: Broadcasting and Arithmetic Operations\n",
    "\n",
    "* Create two arrays: A, a 2x3 array of random integers between 1 and 10, and B, a 1D array of 3 random integers between 1 and 5.\n",
    "* Print both arrays.\n",
    "* Add array B to every row of array A and print the result. (This will test your understanding of broadcasting.)\n",
    "* Multiply every element of the resulting array by 2 and print the final array.\n"
   ]
  },
  {
   "cell_type": "code",
   "execution_count": 22,
   "id": "9bd55cc5-22d9-49ab-bc02-778809aa05ca",
   "metadata": {},
   "outputs": [],
   "source": [
    "A = randint(1, 10, (2, 3))\n",
    "B = randint(1, 5, 3)"
   ]
  },
  {
   "cell_type": "code",
   "execution_count": 23,
   "id": "6d01c7c6-ba42-4dbc-a8d8-48be96504cee",
   "metadata": {},
   "outputs": [
    {
     "data": {
      "text/plain": [
       "array([[1, 6, 6],\n",
       "       [8, 2, 8]])"
      ]
     },
     "execution_count": 23,
     "metadata": {},
     "output_type": "execute_result"
    }
   ],
   "source": [
    "A"
   ]
  },
  {
   "cell_type": "code",
   "execution_count": 24,
   "id": "73765a4f-89c2-4219-8abb-dee5e29416a0",
   "metadata": {},
   "outputs": [
    {
     "data": {
      "text/plain": [
       "array([2, 2, 3])"
      ]
     },
     "execution_count": 24,
     "metadata": {},
     "output_type": "execute_result"
    }
   ],
   "source": [
    "B"
   ]
  },
  {
   "cell_type": "code",
   "execution_count": 27,
   "id": "f458c8e9-935b-455a-9376-eb4acc2964ef",
   "metadata": {},
   "outputs": [
    {
     "data": {
      "text/plain": [
       "array([[ 3,  8,  9],\n",
       "       [10,  4, 11]])"
      ]
     },
     "execution_count": 27,
     "metadata": {},
     "output_type": "execute_result"
    }
   ],
   "source": [
    "C = (A + B) # broadcasting\n",
    "C"
   ]
  },
  {
   "cell_type": "code",
   "execution_count": 28,
   "id": "01c3a34d-3f38-40a3-bc35-dfb31df5bea2",
   "metadata": {},
   "outputs": [
    {
     "data": {
      "text/plain": [
       "array([[ 6, 16, 18],\n",
       "       [20,  8, 22]])"
      ]
     },
     "execution_count": 28,
     "metadata": {},
     "output_type": "execute_result"
    }
   ],
   "source": [
    "C * 2"
   ]
  },
  {
   "cell_type": "markdown",
   "id": "b7ce917b-bdd3-412e-899a-320043467b49",
   "metadata": {},
   "source": [
    "#### Task 4: Linear Algebra Operations\n",
    "\n",
    "* Create two matrices:\n",
    "    M1, a 3x3 matrix of random integers between 1 and 10.\n",
    "    M2, another 3x3 matrix of random integers between 1 and 10.\n",
    "* Print both matrices.\n",
    "* Calculate and print the matrix product of M1 and M2.\n",
    "* Compute and print the transpose of M1.\n",
    "* Calculate and print the determinant of M2."
   ]
  },
  {
   "cell_type": "code",
   "execution_count": 32,
   "id": "ead2755b-8376-4142-a35a-710cc9eab321",
   "metadata": {},
   "outputs": [],
   "source": [
    "M1 = randint(1, 10, (3, 3))\n",
    "M2 = randint(1, 10, (3, 3))"
   ]
  },
  {
   "cell_type": "code",
   "execution_count": 33,
   "id": "6fd11552-cdf4-411b-b732-80a58ea52cec",
   "metadata": {},
   "outputs": [
    {
     "data": {
      "text/plain": [
       "array([[5, 1, 4],\n",
       "       [6, 8, 3],\n",
       "       [9, 7, 8]])"
      ]
     },
     "execution_count": 33,
     "metadata": {},
     "output_type": "execute_result"
    }
   ],
   "source": [
    "M1"
   ]
  },
  {
   "cell_type": "code",
   "execution_count": 34,
   "id": "c9a70fc2-a53d-4713-a21f-db7218102ac2",
   "metadata": {},
   "outputs": [
    {
     "data": {
      "text/plain": [
       "array([[5, 6, 6],\n",
       "       [5, 8, 3],\n",
       "       [2, 4, 2]])"
      ]
     },
     "execution_count": 34,
     "metadata": {},
     "output_type": "execute_result"
    }
   ],
   "source": [
    "M2"
   ]
  },
  {
   "cell_type": "code",
   "execution_count": 36,
   "id": "2242ca0e-d016-4939-93be-5820cb41746e",
   "metadata": {},
   "outputs": [
    {
     "data": {
      "text/plain": [
       "array([[ 38,  54,  41],\n",
       "       [ 76, 112,  66],\n",
       "       [ 96, 142,  91]])"
      ]
     },
     "execution_count": 36,
     "metadata": {},
     "output_type": "execute_result"
    }
   ],
   "source": [
    "np.dot(M1, M2)"
   ]
  },
  {
   "cell_type": "code",
   "execution_count": 39,
   "id": "ca52c221-c11b-4b60-bd9e-fb5ff2966a75",
   "metadata": {},
   "outputs": [
    {
     "data": {
      "text/plain": [
       "array([[5, 6, 9],\n",
       "       [1, 8, 7],\n",
       "       [4, 3, 8]])"
      ]
     },
     "execution_count": 39,
     "metadata": {},
     "output_type": "execute_result"
    }
   ],
   "source": [
    "M1.T # make rows to columns"
   ]
  },
  {
   "cell_type": "code",
   "execution_count": 42,
   "id": "bc1f5321-901f-43d4-b4de-a2c63066a0fc",
   "metadata": {},
   "outputs": [
    {
     "data": {
      "text/plain": [
       "19.99999999999999"
      ]
     },
     "execution_count": 42,
     "metadata": {},
     "output_type": "execute_result"
    }
   ],
   "source": [
    "det(M2)"
   ]
  },
  {
   "cell_type": "markdown",
   "id": "132b141d-b223-407e-ac51-7729982a1672",
   "metadata": {},
   "source": [
    "#### Task 5: Advanced Array Manipulation and Statistics\n",
    "\n",
    "* Create a 2D NumPy array of shape (5, 5) filled with random floats between 0 and 1.\n",
    "* Print the original array.\n",
    "* Replace all elements in the array that are less than 0.5 with 0, and print the modified array.\n",
    "* Calculate and print the mean and standard deviation of the modified array.\n",
    "* Flatten the modified array into a 1D array and print it."
   ]
  },
  {
   "cell_type": "code",
   "execution_count": 51,
   "id": "38572c3f-7ae6-484f-a23c-9dfbf0c6f0c1",
   "metadata": {},
   "outputs": [],
   "source": [
    "arr = rand(5, 5)"
   ]
  },
  {
   "cell_type": "code",
   "execution_count": 52,
   "id": "88a2715d-eb75-4e07-b2b7-813906e1af3b",
   "metadata": {},
   "outputs": [
    {
     "data": {
      "text/plain": [
       "array([[0.37220417, 0.3571765 , 0.34919861, 0.68189868, 0.29154659],\n",
       "       [0.23249364, 0.01934364, 0.66828402, 0.75496041, 0.72298492],\n",
       "       [0.93310518, 0.32635417, 0.50033807, 0.10130642, 0.23803182],\n",
       "       [0.01393203, 0.91007835, 0.87203808, 0.81081159, 0.25881039],\n",
       "       [0.95567196, 0.35596875, 0.7794585 , 0.11151582, 0.9454154 ]])"
      ]
     },
     "execution_count": 52,
     "metadata": {},
     "output_type": "execute_result"
    }
   ],
   "source": [
    "arr"
   ]
  },
  {
   "cell_type": "code",
   "execution_count": 53,
   "id": "e516fcd2-4274-429a-8295-e8a9f4bf7d94",
   "metadata": {},
   "outputs": [],
   "source": [
    "arr[arr < 0.5] = 0.0"
   ]
  },
  {
   "cell_type": "code",
   "execution_count": 54,
   "id": "c54d5785-0810-47e6-9e90-b74bac5da1ab",
   "metadata": {},
   "outputs": [
    {
     "data": {
      "text/plain": [
       "array([[0.        , 0.        , 0.        , 0.68189868, 0.        ],\n",
       "       [0.        , 0.        , 0.66828402, 0.75496041, 0.72298492],\n",
       "       [0.93310518, 0.        , 0.50033807, 0.        , 0.        ],\n",
       "       [0.        , 0.91007835, 0.87203808, 0.81081159, 0.        ],\n",
       "       [0.95567196, 0.        , 0.7794585 , 0.        , 0.9454154 ]])"
      ]
     },
     "execution_count": 54,
     "metadata": {},
     "output_type": "execute_result"
    }
   ],
   "source": [
    "arr"
   ]
  },
  {
   "cell_type": "code",
   "execution_count": 55,
   "id": "8c8316cb-28f0-42bb-900c-d9d0c9016a83",
   "metadata": {},
   "outputs": [
    {
     "data": {
      "text/plain": [
       "0.3814018070699428"
      ]
     },
     "execution_count": 55,
     "metadata": {},
     "output_type": "execute_result"
    }
   ],
   "source": [
    "arr.mean()"
   ]
  },
  {
   "cell_type": "code",
   "execution_count": 56,
   "id": "787a84d0-31db-4588-b642-8f334aaad744",
   "metadata": {},
   "outputs": [
    {
     "data": {
      "text/plain": [
       "0.40740078368434784"
      ]
     },
     "execution_count": 56,
     "metadata": {},
     "output_type": "execute_result"
    }
   ],
   "source": [
    "arr.std()"
   ]
  },
  {
   "cell_type": "code",
   "execution_count": 58,
   "id": "3205ec0c-d34e-4df0-8e93-96fcf3d2feee",
   "metadata": {},
   "outputs": [
    {
     "data": {
      "text/plain": [
       "array([0.        , 0.        , 0.        , 0.68189868, 0.        ,\n",
       "       0.        , 0.        , 0.66828402, 0.75496041, 0.72298492,\n",
       "       0.93310518, 0.        , 0.50033807, 0.        , 0.        ,\n",
       "       0.        , 0.91007835, 0.87203808, 0.81081159, 0.        ,\n",
       "       0.95567196, 0.        , 0.7794585 , 0.        , 0.9454154 ])"
      ]
     },
     "execution_count": 58,
     "metadata": {},
     "output_type": "execute_result"
    }
   ],
   "source": [
    "arr.flatten() # creates a copy of the array"
   ]
  },
  {
   "cell_type": "code",
   "execution_count": 59,
   "id": "eae8d221-d640-41b3-a63d-9b5dab13776d",
   "metadata": {},
   "outputs": [
    {
     "data": {
      "text/plain": [
       "array([0.        , 0.        , 0.        , 0.68189868, 0.        ,\n",
       "       0.        , 0.        , 0.66828402, 0.75496041, 0.72298492,\n",
       "       0.93310518, 0.        , 0.50033807, 0.        , 0.        ,\n",
       "       0.        , 0.91007835, 0.87203808, 0.81081159, 0.        ,\n",
       "       0.95567196, 0.        , 0.7794585 , 0.        , 0.9454154 ])"
      ]
     },
     "execution_count": 59,
     "metadata": {},
     "output_type": "execute_result"
    }
   ],
   "source": [
    "arr.ravel() # attempts to return a view of the original array (more memory efficient)"
   ]
  },
  {
   "cell_type": "markdown",
   "id": "c1efe5d1-ad46-4f8a-96ec-a110d6625a4f",
   "metadata": {},
   "source": [
    "#### Task 6: Data Filtering and Aggregation\n",
    "\n",
    "* Create a 2D NumPy array of shape (6, 4) filled with random integers between 10 and 100.\n",
    "* Print the original array.\n",
    "* Filter out and print all rows where the first column is greater than 50.\n",
    "* For these filtered rows, calculate and print the average of the second column."
   ]
  },
  {
   "cell_type": "code",
   "execution_count": 60,
   "id": "3cf6c8e7-e498-4413-a88d-554d2c004935",
   "metadata": {},
   "outputs": [
    {
     "data": {
      "text/plain": [
       "array([[52, 13, 51, 79],\n",
       "       [56, 39, 77, 18],\n",
       "       [73, 96, 22, 12],\n",
       "       [56, 72, 54, 73],\n",
       "       [39, 14, 24, 69],\n",
       "       [37, 93, 22, 34]])"
      ]
     },
     "execution_count": 60,
     "metadata": {},
     "output_type": "execute_result"
    }
   ],
   "source": [
    "arr = randint(10, 100, (6, 4))\n",
    "arr"
   ]
  },
  {
   "cell_type": "code",
   "execution_count": 66,
   "id": "55cba920-24a7-4f8d-8336-5187ea060669",
   "metadata": {},
   "outputs": [
    {
     "data": {
      "text/plain": [
       "array([[52, 13, 51, 79],\n",
       "       [56, 39, 77, 18],\n",
       "       [73, 96, 22, 12],\n",
       "       [56, 72, 54, 73]])"
      ]
     },
     "execution_count": 66,
     "metadata": {},
     "output_type": "execute_result"
    }
   ],
   "source": [
    "filtered_arr = arr[arr[:,0] > 50]\n",
    "filtered_arr"
   ]
  },
  {
   "cell_type": "code",
   "execution_count": 68,
   "id": "773a709a-fcf4-4a7e-a57d-91a29a336d45",
   "metadata": {},
   "outputs": [
    {
     "data": {
      "text/plain": [
       "55.0"
      ]
     },
     "execution_count": 68,
     "metadata": {},
     "output_type": "execute_result"
    }
   ],
   "source": [
    "filtered_arr[:,1].mean()"
   ]
  },
  {
   "cell_type": "markdown",
   "id": "ce3feb74-14b2-4b86-9b64-2205dd183ab7",
   "metadata": {},
   "source": [
    "#### Task 7: Working with Multi-Dimensional Slicing and Complex Conditions\n",
    "\n",
    "* Create a 3D NumPy array of shape (3, 4, 2) filled with random integers between 0 and 9.\n",
    "* Print the original array.\n",
    "* From this array, extract and print a 2D slice that consists of the second and third rows (index 1 and 2) of the second 'layer' (index 1) of each 3D block.\n",
    "* Replace all elements in this 2D slice that are greater than 5 with 5, and print the modified slice."
   ]
  },
  {
   "cell_type": "code",
   "execution_count": 80,
   "id": "76d2a9c2-78e2-40f3-afd6-41485359964a",
   "metadata": {},
   "outputs": [
    {
     "data": {
      "text/plain": [
       "array([[[6, 3],\n",
       "        [6, 8],\n",
       "        [5, 7],\n",
       "        [2, 5]],\n",
       "\n",
       "       [[1, 5],\n",
       "        [8, 7],\n",
       "        [5, 0],\n",
       "        [1, 7]],\n",
       "\n",
       "       [[7, 8],\n",
       "        [3, 0],\n",
       "        [0, 7],\n",
       "        [1, 3]]])"
      ]
     },
     "execution_count": 80,
     "metadata": {},
     "output_type": "execute_result"
    }
   ],
   "source": [
    "arr = randint(0, 9, (3, 4, 2))\n",
    "arr"
   ]
  },
  {
   "cell_type": "code",
   "execution_count": 81,
   "id": "e3c4709b-d7a3-466a-a389-82b6b0937ba2",
   "metadata": {},
   "outputs": [
    {
     "data": {
      "text/plain": [
       "array([[8, 7],\n",
       "       [7, 0],\n",
       "       [0, 7]])"
      ]
     },
     "execution_count": 81,
     "metadata": {},
     "output_type": "execute_result"
    }
   ],
   "source": [
    "slice = arr[:,1:3,1]\n",
    "slice"
   ]
  },
  {
   "cell_type": "code",
   "execution_count": 82,
   "id": "bb267043-93f0-439d-9e2c-86de1ee7ed0d",
   "metadata": {},
   "outputs": [
    {
     "data": {
      "text/plain": [
       "array([8, 7, 7, 7])"
      ]
     },
     "execution_count": 82,
     "metadata": {},
     "output_type": "execute_result"
    }
   ],
   "source": [
    "slice[slice > 5]"
   ]
  },
  {
   "cell_type": "code",
   "execution_count": 83,
   "id": "3b53524d-3ef2-4a40-9335-941ec38aec79",
   "metadata": {},
   "outputs": [
    {
     "data": {
      "text/plain": [
       "array([[5, 5],\n",
       "       [5, 0],\n",
       "       [0, 5]])"
      ]
     },
     "execution_count": 83,
     "metadata": {},
     "output_type": "execute_result"
    }
   ],
   "source": [
    "np.where(slice > 5, 5, slice)"
   ]
  },
  {
   "cell_type": "code",
   "execution_count": 84,
   "id": "54f60223-2788-4786-937a-0dc36a51e741",
   "metadata": {},
   "outputs": [
    {
     "data": {
      "text/plain": [
       "2"
      ]
     },
     "execution_count": 84,
     "metadata": {},
     "output_type": "execute_result"
    }
   ],
   "source": [
    "slice.ndim"
   ]
  },
  {
   "cell_type": "code",
   "execution_count": 85,
   "id": "03fb83aa-f5ca-4fef-9657-bd8286820181",
   "metadata": {},
   "outputs": [
    {
     "data": {
      "text/plain": [
       "3"
      ]
     },
     "execution_count": 85,
     "metadata": {},
     "output_type": "execute_result"
    }
   ],
   "source": [
    "arr.ndim"
   ]
  },
  {
   "cell_type": "code",
   "execution_count": null,
   "id": "24bc97f7-3664-4f25-b37d-a6c36fa1b7ac",
   "metadata": {},
   "outputs": [],
   "source": []
  }
 ],
 "metadata": {
  "kernelspec": {
   "display_name": "Python 3 (ipykernel)",
   "language": "python",
   "name": "python3"
  },
  "language_info": {
   "codemirror_mode": {
    "name": "ipython",
    "version": 3
   },
   "file_extension": ".py",
   "mimetype": "text/x-python",
   "name": "python",
   "nbconvert_exporter": "python",
   "pygments_lexer": "ipython3",
   "version": "3.11.6"
  }
 },
 "nbformat": 4,
 "nbformat_minor": 5
}
